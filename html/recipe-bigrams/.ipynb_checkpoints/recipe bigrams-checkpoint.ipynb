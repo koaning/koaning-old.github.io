{
 "metadata": {
  "name": "",
  "signature": "sha256:71a5a6f1c130120c01b2e63f03089362bb43cb26adab55f147d31471266921a5"
 },
 "nbformat": 3,
 "nbformat_minor": 0,
 "worksheets": [
  {
   "cells": [
    {
     "cell_type": "markdown",
     "metadata": {},
     "source": [
      "# Recipe Recommendations\n",
      "\n",
      "In this document I will scrape the web for some recipe data."
     ]
    },
    {
     "cell_type": "code",
     "collapsed": false,
     "input": [
      "import unicodedata as uni\n",
      "import requests as rq"
     ],
     "language": "python",
     "metadata": {},
     "outputs": [],
     "prompt_number": 101
    },
    {
     "cell_type": "code",
     "collapsed": false,
     "input": [
      "def normalize(unicode_str):\n",
      "    return uni.normalize('NFKD', unicode_str).encode('ascii','ignore').lower()"
     ],
     "language": "python",
     "metadata": {},
     "outputs": [],
     "prompt_number": 102
    },
    {
     "cell_type": "code",
     "collapsed": true,
     "input": [
      "ingredients = ['white chocolate','ground white pepper','simple sourdough starter','lime zest','egg whites','pasteurized egg whites','fresh mint','fresh ginger','roasted garlic purae','carrot','powdered gelatin','white cra me de cacao','soy sauce','milk','sheet gelatin','boneless skinless chicken breast','vanilla bean','cream of tartar','fresh tomatoes','shiitake mushrooms','whole black pepper','whole blanched almonds','chicken stock','ground beef','dried whole thyme','baking powder','all purpose flour','light corn syrup','heavy cream','ground cinnamon','macaroon coconut','yellow cornmeal','thai chile pepper','fresh parsley','lemongrass','crumb pie crust','unsalted butter','dried bay leaves','whole cloves','cocoa powder','vanilla extract','lemon juice (fresh)','water','cornstarch','snow peas','egg yolks','fresh basil','butter','whole macadamia nuts','granulated sugar','golden delicious apple','whole star anise','dry active yeast','pasteurized egg yolks','fresh cilantro','confectioners sugar','beef broth','sliced almonds','cake flour','grated parmesan cheese','mirepoix','bread flour','bittersweet chocolate','lime juice (fresh)','passion fruit juice','salt','kosher salt','rice noodles']\n",
      "\n",
      "f = open(\"~/Downloads/spark-1.0.2-bin-hadoop1/data\",\"rw\")\n",
      "f.write(json.dumps(result)) \n",
      "json_blob.close()\n",
      "\n",
      "recipies = set([])\n",
      "all_ingredients = set([])\n",
      "\n",
      "for ingredient in ingredients:\n",
      "    print(\"now processing \" + ingredient)\n",
      "    link = 'http://api.pearson.com:80/kitchen-manager/v1/recipes?ingredients-any=' + ingredient + '&limit=100'\n",
      "    req = rq.request('GET', link)\n",
      "    docs = [[normalize(i) for i in d['ingredients']] for d in req.json()['results']]\n",
      "    for doc in docs:\n",
      "        recipies.add(frozenset(doc))\n",
      "        for ingredient in doc:\n",
      "            all_ingredients.add(ingredient)"
     ],
     "language": "python",
     "metadata": {},
     "outputs": [
      {
       "output_type": "stream",
       "stream": "stdout",
       "text": [
        "now processing white chocolate\n",
        "now processing ground white pepper"
       ]
      },
      {
       "output_type": "stream",
       "stream": "stdout",
       "text": [
        "\n",
        "now processing simple sourdough starter"
       ]
      },
      {
       "output_type": "stream",
       "stream": "stdout",
       "text": [
        "\n",
        "now processing lime zest"
       ]
      },
      {
       "output_type": "stream",
       "stream": "stdout",
       "text": [
        "\n",
        "now processing egg whites"
       ]
      },
      {
       "output_type": "stream",
       "stream": "stdout",
       "text": [
        "\n",
        "now processing pasteurized egg whites"
       ]
      },
      {
       "output_type": "stream",
       "stream": "stdout",
       "text": [
        "\n",
        "now processing fresh mint"
       ]
      },
      {
       "output_type": "stream",
       "stream": "stdout",
       "text": [
        "\n",
        "now processing fresh ginger"
       ]
      },
      {
       "output_type": "stream",
       "stream": "stdout",
       "text": [
        "\n",
        "now processing roasted garlic purae"
       ]
      },
      {
       "output_type": "stream",
       "stream": "stdout",
       "text": [
        "\n",
        "now processing carrot"
       ]
      },
      {
       "output_type": "stream",
       "stream": "stdout",
       "text": [
        "\n",
        "now processing powdered gelatin"
       ]
      },
      {
       "output_type": "stream",
       "stream": "stdout",
       "text": [
        "\n",
        "now processing white cra me de cacao"
       ]
      },
      {
       "output_type": "stream",
       "stream": "stdout",
       "text": [
        "\n",
        "now processing soy sauce"
       ]
      },
      {
       "output_type": "stream",
       "stream": "stdout",
       "text": [
        "\n",
        "now processing milk"
       ]
      },
      {
       "output_type": "stream",
       "stream": "stdout",
       "text": [
        "\n",
        "now processing sheet gelatin"
       ]
      },
      {
       "output_type": "stream",
       "stream": "stdout",
       "text": [
        "\n",
        "now processing boneless skinless chicken breast"
       ]
      },
      {
       "output_type": "stream",
       "stream": "stdout",
       "text": [
        "\n",
        "now processing vanilla bean"
       ]
      },
      {
       "output_type": "stream",
       "stream": "stdout",
       "text": [
        "\n",
        "now processing cream of tartar"
       ]
      },
      {
       "output_type": "stream",
       "stream": "stdout",
       "text": [
        "\n",
        "now processing fresh tomatoes"
       ]
      },
      {
       "output_type": "stream",
       "stream": "stdout",
       "text": [
        "\n",
        "now processing shiitake mushrooms"
       ]
      },
      {
       "output_type": "stream",
       "stream": "stdout",
       "text": [
        "\n",
        "now processing whole black pepper"
       ]
      },
      {
       "output_type": "stream",
       "stream": "stdout",
       "text": [
        "\n",
        "now processing whole blanched almonds"
       ]
      },
      {
       "output_type": "stream",
       "stream": "stdout",
       "text": [
        "\n",
        "now processing chicken stock"
       ]
      },
      {
       "output_type": "stream",
       "stream": "stdout",
       "text": [
        "\n",
        "now processing ground beef"
       ]
      },
      {
       "output_type": "stream",
       "stream": "stdout",
       "text": [
        "\n",
        "now processing dried whole thyme"
       ]
      },
      {
       "output_type": "stream",
       "stream": "stdout",
       "text": [
        "\n",
        "now processing baking powder"
       ]
      },
      {
       "output_type": "stream",
       "stream": "stdout",
       "text": [
        "\n",
        "now processing all purpose flour"
       ]
      },
      {
       "output_type": "stream",
       "stream": "stdout",
       "text": [
        "\n",
        "now processing light corn syrup"
       ]
      },
      {
       "output_type": "stream",
       "stream": "stdout",
       "text": [
        "\n",
        "now processing heavy cream"
       ]
      },
      {
       "output_type": "stream",
       "stream": "stdout",
       "text": [
        "\n",
        "now processing ground cinnamon"
       ]
      },
      {
       "output_type": "stream",
       "stream": "stdout",
       "text": [
        "\n",
        "now processing macaroon coconut"
       ]
      },
      {
       "output_type": "stream",
       "stream": "stdout",
       "text": [
        "\n",
        "now processing yellow cornmeal"
       ]
      },
      {
       "output_type": "stream",
       "stream": "stdout",
       "text": [
        "\n",
        "now processing thai chile pepper"
       ]
      },
      {
       "output_type": "stream",
       "stream": "stdout",
       "text": [
        "\n",
        "now processing fresh parsley"
       ]
      },
      {
       "output_type": "stream",
       "stream": "stdout",
       "text": [
        "\n",
        "now processing lemongrass"
       ]
      },
      {
       "output_type": "stream",
       "stream": "stdout",
       "text": [
        "\n",
        "now processing crumb pie crust"
       ]
      },
      {
       "output_type": "stream",
       "stream": "stdout",
       "text": [
        "\n",
        "now processing unsalted butter"
       ]
      },
      {
       "output_type": "stream",
       "stream": "stdout",
       "text": [
        "\n",
        "now processing dried bay leaves"
       ]
      },
      {
       "output_type": "stream",
       "stream": "stdout",
       "text": [
        "\n",
        "now processing whole cloves"
       ]
      },
      {
       "output_type": "stream",
       "stream": "stdout",
       "text": [
        "\n",
        "now processing cocoa powder"
       ]
      },
      {
       "output_type": "stream",
       "stream": "stdout",
       "text": [
        "\n",
        "now processing vanilla extract"
       ]
      },
      {
       "output_type": "stream",
       "stream": "stdout",
       "text": [
        "\n",
        "now processing lemon juice (fresh)"
       ]
      },
      {
       "output_type": "stream",
       "stream": "stdout",
       "text": [
        "\n",
        "now processing water"
       ]
      },
      {
       "output_type": "stream",
       "stream": "stdout",
       "text": [
        "\n",
        "now processing cornstarch"
       ]
      },
      {
       "output_type": "stream",
       "stream": "stdout",
       "text": [
        "\n",
        "now processing snow peas"
       ]
      },
      {
       "output_type": "stream",
       "stream": "stdout",
       "text": [
        "\n",
        "now processing egg yolks"
       ]
      },
      {
       "output_type": "stream",
       "stream": "stdout",
       "text": [
        "\n",
        "now processing fresh basil"
       ]
      },
      {
       "output_type": "stream",
       "stream": "stdout",
       "text": [
        "\n",
        "now processing butter"
       ]
      },
      {
       "output_type": "stream",
       "stream": "stdout",
       "text": [
        "\n",
        "now processing whole macadamia nuts"
       ]
      },
      {
       "output_type": "stream",
       "stream": "stdout",
       "text": [
        "\n",
        "now processing granulated sugar"
       ]
      },
      {
       "output_type": "stream",
       "stream": "stdout",
       "text": [
        "\n",
        "now processing golden delicious apple"
       ]
      },
      {
       "output_type": "stream",
       "stream": "stdout",
       "text": [
        "\n",
        "now processing whole star anise"
       ]
      },
      {
       "output_type": "stream",
       "stream": "stdout",
       "text": [
        "\n",
        "now processing dry active yeast"
       ]
      },
      {
       "output_type": "stream",
       "stream": "stdout",
       "text": [
        "\n",
        "now processing pasteurized egg yolks"
       ]
      },
      {
       "output_type": "stream",
       "stream": "stdout",
       "text": [
        "\n",
        "now processing fresh cilantro"
       ]
      },
      {
       "output_type": "stream",
       "stream": "stdout",
       "text": [
        "\n",
        "now processing confectioners sugar"
       ]
      },
      {
       "output_type": "stream",
       "stream": "stdout",
       "text": [
        "\n",
        "now processing beef broth"
       ]
      },
      {
       "output_type": "stream",
       "stream": "stdout",
       "text": [
        "\n",
        "now processing sliced almonds"
       ]
      },
      {
       "output_type": "stream",
       "stream": "stdout",
       "text": [
        "\n",
        "now processing cake flour"
       ]
      },
      {
       "output_type": "stream",
       "stream": "stdout",
       "text": [
        "\n",
        "now processing grated parmesan cheese"
       ]
      },
      {
       "output_type": "stream",
       "stream": "stdout",
       "text": [
        "\n",
        "now processing mirepoix"
       ]
      },
      {
       "output_type": "stream",
       "stream": "stdout",
       "text": [
        "\n",
        "now processing bread flour"
       ]
      },
      {
       "output_type": "stream",
       "stream": "stdout",
       "text": [
        "\n",
        "now processing bittersweet chocolate"
       ]
      },
      {
       "output_type": "stream",
       "stream": "stdout",
       "text": [
        "\n",
        "now processing lime juice (fresh)"
       ]
      },
      {
       "output_type": "stream",
       "stream": "stdout",
       "text": [
        "\n",
        "now processing passion fruit juice"
       ]
      },
      {
       "output_type": "stream",
       "stream": "stdout",
       "text": [
        "\n",
        "now processing salt"
       ]
      },
      {
       "output_type": "stream",
       "stream": "stdout",
       "text": [
        "\n",
        "now processing kosher salt"
       ]
      },
      {
       "output_type": "stream",
       "stream": "stdout",
       "text": [
        "\n",
        "now processing rice noodles"
       ]
      },
      {
       "output_type": "stream",
       "stream": "stdout",
       "text": [
        "\n"
       ]
      }
     ],
     "prompt_number": 128
    },
    {
     "cell_type": "markdown",
     "metadata": {},
     "source": [
      "Notice the use of ```frozenset```. We need to use this because the inner set cannot contain mutable types. "
     ]
    },
    {
     "cell_type": "code",
     "collapsed": false,
     "input": [
      "print(len(ingredients))\n",
      "print(len(recipies))"
     ],
     "language": "python",
     "metadata": {},
     "outputs": [
      {
       "output_type": "stream",
       "stream": "stdout",
       "text": [
        "68\n",
        "393\n"
       ]
      }
     ],
     "prompt_number": 129
    },
    {
     "cell_type": "code",
     "collapsed": false,
     "input": [
      "ingredients"
     ],
     "language": "python",
     "metadata": {},
     "outputs": [
      {
       "metadata": {},
       "output_type": "pyout",
       "prompt_number": 130,
       "text": [
        "['white chocolate',\n",
        " 'ground white pepper',\n",
        " 'simple sourdough starter',\n",
        " 'lime zest',\n",
        " 'egg whites',\n",
        " 'pasteurized egg whites',\n",
        " 'fresh mint',\n",
        " 'fresh ginger',\n",
        " 'roasted garlic purae',\n",
        " 'carrot',\n",
        " 'powdered gelatin',\n",
        " 'white cra me de cacao',\n",
        " 'soy sauce',\n",
        " 'milk',\n",
        " 'sheet gelatin',\n",
        " 'boneless skinless chicken breast',\n",
        " 'vanilla bean',\n",
        " 'cream of tartar',\n",
        " 'fresh tomatoes',\n",
        " 'shiitake mushrooms',\n",
        " 'whole black pepper',\n",
        " 'whole blanched almonds',\n",
        " 'chicken stock',\n",
        " 'ground beef',\n",
        " 'dried whole thyme',\n",
        " 'baking powder',\n",
        " 'all purpose flour',\n",
        " 'light corn syrup',\n",
        " 'heavy cream',\n",
        " 'ground cinnamon',\n",
        " 'macaroon coconut',\n",
        " 'yellow cornmeal',\n",
        " 'thai chile pepper',\n",
        " 'fresh parsley',\n",
        " 'lemongrass',\n",
        " 'crumb pie crust',\n",
        " 'unsalted butter',\n",
        " 'dried bay leaves',\n",
        " 'whole cloves',\n",
        " 'cocoa powder',\n",
        " 'vanilla extract',\n",
        " 'lemon juice (fresh)',\n",
        " 'water',\n",
        " 'cornstarch',\n",
        " 'snow peas',\n",
        " 'egg yolks',\n",
        " 'fresh basil',\n",
        " 'butter',\n",
        " 'whole macadamia nuts',\n",
        " 'granulated sugar',\n",
        " 'golden delicious apple',\n",
        " 'whole star anise',\n",
        " 'dry active yeast',\n",
        " 'pasteurized egg yolks',\n",
        " 'fresh cilantro',\n",
        " 'confectioners sugar',\n",
        " 'beef broth',\n",
        " 'sliced almonds',\n",
        " 'cake flour',\n",
        " 'grated parmesan cheese',\n",
        " 'mirepoix',\n",
        " 'bread flour',\n",
        " 'bittersweet chocolate',\n",
        " 'lime juice (fresh)',\n",
        " 'passion fruit juice',\n",
        " 'salt',\n",
        " 'kosher salt',\n",
        " 'rice noodles']"
       ]
      }
     ],
     "prompt_number": 130
    },
    {
     "cell_type": "code",
     "collapsed": false,
     "input": [
      "map(lambda l: recipies.append(l), [d['ingredients'] for d in req.json()['results']])\n",
      "recipies"
     ],
     "language": "python",
     "metadata": {},
     "outputs": [
      {
       "metadata": {},
       "output_type": "pyout",
       "prompt_number": 47,
       "text": [
        "[1,\n",
        " 2,\n",
        " 3,\n",
        " [u'vegetable oil',\n",
        "  u'beef brisket',\n",
        "  u'onion',\n",
        "  u'garlic',\n",
        "  u'Brown Veal Stock',\n",
        "  u'tomato sauce',\n",
        "  u'light brown sugar',\n",
        "  u'paprika',\n",
        "  u'dry mustard',\n",
        "  u'Lemon Juice (fresh)',\n",
        "  u'ketchup',\n",
        "  u'red wine vinegar',\n",
        "  u'worcestershire sauce',\n",
        "  u'salt',\n",
        "  u'ground black pepper'],\n",
        " [u'pasteurized egg yolks',\n",
        "  u'salt',\n",
        "  u'Lemon Juice (fresh)',\n",
        "  u'vegetable oil',\n",
        "  u'water',\n",
        "  u'salt',\n",
        "  u'ground white pepper',\n",
        "  u'yellow onion',\n",
        "  u'ketchup',\n",
        "  u'garlic',\n",
        "  u'cayenne pepper',\n",
        "  u'fresh Italian parsley',\n",
        "  u'Dijon mustard',\n",
        "  u'anchovy fillets',\n",
        "  u'tabasco sauce',\n",
        "  u'worcestershire sauce'],\n",
        " [u'onion',\n",
        "  u'celery',\n",
        "  u'garlic',\n",
        "  u'vegetable oil',\n",
        "  u'Fresh Bread Crumbs',\n",
        "  u'tomato juice',\n",
        "  u'ground beef',\n",
        "  u'ground pork',\n",
        "  u'eggs',\n",
        "  u'salt',\n",
        "  u'ground black pepper',\n",
        "  u'fresh parsley',\n",
        "  u'worcestershire sauce',\n",
        "  u'ketchup']]"
       ]
      }
     ],
     "prompt_number": 47
    },
    {
     "cell_type": "code",
     "collapsed": false,
     "input": [
      "ingredient_recepies"
     ],
     "language": "python",
     "metadata": {},
     "outputs": [
      {
       "metadata": {},
       "output_type": "pyout",
       "prompt_number": 38,
       "text": [
        "[[u'vegetable oil',\n",
        "  u'beef brisket',\n",
        "  u'onion',\n",
        "  u'garlic',\n",
        "  u'Brown Veal Stock',\n",
        "  u'tomato sauce',\n",
        "  u'light brown sugar',\n",
        "  u'paprika',\n",
        "  u'dry mustard',\n",
        "  u'Lemon Juice (fresh)',\n",
        "  u'ketchup',\n",
        "  u'red wine vinegar',\n",
        "  u'worcestershire sauce',\n",
        "  u'salt',\n",
        "  u'ground black pepper'],\n",
        " [u'pasteurized egg yolks',\n",
        "  u'salt',\n",
        "  u'Lemon Juice (fresh)',\n",
        "  u'vegetable oil',\n",
        "  u'water',\n",
        "  u'salt',\n",
        "  u'ground white pepper',\n",
        "  u'yellow onion',\n",
        "  u'ketchup',\n",
        "  u'garlic',\n",
        "  u'cayenne pepper',\n",
        "  u'fresh Italian parsley',\n",
        "  u'Dijon mustard',\n",
        "  u'anchovy fillets',\n",
        "  u'tabasco sauce',\n",
        "  u'worcestershire sauce'],\n",
        " [u'onion',\n",
        "  u'celery',\n",
        "  u'garlic',\n",
        "  u'vegetable oil',\n",
        "  u'Fresh Bread Crumbs',\n",
        "  u'tomato juice',\n",
        "  u'ground beef',\n",
        "  u'ground pork',\n",
        "  u'eggs',\n",
        "  u'salt',\n",
        "  u'ground black pepper',\n",
        "  u'fresh parsley',\n",
        "  u'worcestershire sauce',\n",
        "  u'ketchup']]"
       ]
      }
     ],
     "prompt_number": 38
    }
   ],
   "metadata": {}
  }
 ]
}