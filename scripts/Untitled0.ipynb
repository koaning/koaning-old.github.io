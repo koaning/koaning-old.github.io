{
 "metadata": {
  "name": "",
  "signature": "sha256:0017f673917eb7820906abc676276c0170bd086abaa14a544a79f5c081d9b62c"
 },
 "nbformat": 3,
 "nbformat_minor": 0,
 "worksheets": [
  {
   "cells": [
    {
     "cell_type": "code",
     "collapsed": false,
     "input": [
      "# -*- coding: utf-8 -*-\n",
      "\"\"\" \n",
      "Example of use multi-layer perceptron\n",
      "=====================================\n",
      "\n",
      "Task: Approximation function: 1/2 * sin(x)\n",
      "\n",
      "\"\"\"\n",
      "\n",
      "import neurolab as nl\n",
      "import numpy as np\n",
      "\n",
      "# Create train samples\n",
      "x = np.linspace(-7, 7, 20)\n",
      "y = np.sin(x) * 0.5\n",
      "\n",
      "size = len(x)\n",
      "\n",
      "inp = x.reshape(size,1)\n",
      "tar = y.reshape(size,1)\n",
      "\n",
      "# Create network with 2 layers and random initialized\n",
      "net = nl.net.newff([[-7, 7]],[5, 1])\n",
      "\n",
      "# Train network\n",
      "error = net.train(inp, tar, epochs=500, show=100, goal=0.02)\n",
      "\n",
      "# Simulate network\n",
      "out = net.sim(inp)"
     ],
     "language": "python",
     "metadata": {},
     "outputs": [
      {
       "output_type": "stream",
       "stream": "stdout",
       "text": [
        "The goal of learning is reached\n"
       ]
      }
     ],
     "prompt_number": 3
    },
    {
     "cell_type": "code",
     "collapsed": false,
     "input": [
      "a = net.layers[0]\n",
      "a.out"
     ],
     "language": "python",
     "metadata": {},
     "outputs": [
      {
       "metadata": {},
       "output_type": "pyout",
       "prompt_number": 8,
       "text": [
        "array([-0.54286801, -0.99920446, -1.        , -1.        , -1.        ])"
       ]
      }
     ],
     "prompt_number": 8
    },
    {
     "cell_type": "code",
     "collapsed": false,
     "input": [],
     "language": "python",
     "metadata": {},
     "outputs": [
      {
       "metadata": {},
       "output_type": "pyout",
       "prompt_number": 27,
       "text": [
        "1"
       ]
      }
     ],
     "prompt_number": 27
    }
   ],
   "metadata": {}
  }
 ]
}