{
 "metadata": {
  "name": "",
  "signature": "sha256:f6a1514249a8375e9d6ff182460262a74eba70eeb30ee31bffb0a203d3f3820a"
 },
 "nbformat": 3,
 "nbformat_minor": 0,
 "worksheets": [
  {
   "cells": [
    {
     "cell_type": "code",
     "collapsed": false,
     "input": [
      "# parse w3.txt \n",
      "\n",
      "oldfile = open('/Users/code/Downloads/w3_.txt',\"r\")\n",
      "newfile = open('/Users/code/Downloads/w3new.txt',\"wr\")\n",
      "lines = oldfile.readlines()\n",
      "lines[0].replace('\\r\\n','').split('\\t')\n",
      "newfile.write(''.join(lines[0].replace('\\r\\n',' ').split('\\t')))"
     ],
     "language": "python",
     "metadata": {},
     "outputs": [],
     "prompt_number": 22
    },
    {
     "cell_type": "code",
     "collapsed": false,
     "input": [],
     "language": "python",
     "metadata": {},
     "outputs": [
      {
       "metadata": {},
       "output_type": "pyout",
       "prompt_number": 12,
       "text": [
        "0"
       ]
      }
     ],
     "prompt_number": 12
    },
    {
     "cell_type": "code",
     "collapsed": false,
     "input": [
      "newfile.close()"
     ],
     "language": "python",
     "metadata": {},
     "outputs": [],
     "prompt_number": 20
    }
   ],
   "metadata": {}
  }
 ]
}