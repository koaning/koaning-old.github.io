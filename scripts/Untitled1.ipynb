{
 "metadata": {
  "name": "",
  "signature": "sha256:02a93747604d53da67e4f43d4b5e6277f6e1f1fdf56cbe4c8480e14b63d5e1d6"
 },
 "nbformat": 3,
 "nbformat_minor": 0,
 "worksheets": [
  {
   "cells": [
    {
     "cell_type": "code",
     "collapsed": false,
     "input": [
      "# parse w3.txt \n",
      "\n",
      "oldfile = open('/Users/code/Downloads/w3_.txt',\"r\")\n",
      "newfile = open('/Users/code/Downloads/w3new.txt',\"wr\")\n",
      "lines = oldfile.readlines()\n",
      "lines[0].replace('\\r\\n','').split('\\t')\n",
      "','.join(lines[0].replace('\\r\\n',' ').split('\\t'))"
     ],
     "language": "python",
     "metadata": {},
     "outputs": [
      {
       "metadata": {},
       "output_type": "pyout",
       "prompt_number": 26,
       "text": [
        "'48,a,b.a,degree '"
       ]
      }
     ],
     "prompt_number": 26
    },
    {
     "cell_type": "code",
     "collapsed": false,
     "input": [],
     "language": "python",
     "metadata": {},
     "outputs": [
      {
       "metadata": {},
       "output_type": "pyout",
       "prompt_number": 12,
       "text": [
        "0"
       ]
      }
     ],
     "prompt_number": 12
    },
    {
     "cell_type": "code",
     "collapsed": false,
     "input": [
      "newfile.close()"
     ],
     "language": "python",
     "metadata": {},
     "outputs": [],
     "prompt_number": 25
    }
   ],
   "metadata": {}
  }
 ]
}