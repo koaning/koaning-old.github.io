{
 "metadata": {
  "name": "",
  "signature": "sha256:8763943b9b67a2cf96b836386d69ff1f19c6e045de4ff88cfa184f5a5966a830"
 },
 "nbformat": 3,
 "nbformat_minor": 0,
 "worksheets": [
  {
   "cells": [
    {
     "cell_type": "markdown",
     "metadata": {},
     "source": [
      "# Open Pandas Session \n",
      "\n",
      "> Author : Vincent D. Warmerdam \n",
      "\n",
      "This is a document that will help people who have attended the open pandas lecture in Amsterdam, found [here](http://www.eventbrite.co.uk/e/pandas-python-session-tickets-15630063942). nn\n",
      "\n",
      "## Contents of the Day\n",
      "\n",
      "- ipython basics \n",
      "- reminder of python \n",
      "- introduction to numpy \n",
      "- quick plots with matplotlib\n",
      "- introduction to pandas \n",
      "- data hackathon\n",
      "\n",
      "## Loading Packages \n",
      "\n",
      "Before moving on. Make sure that the following packages can be loaded without difficulty. "
     ]
    },
    {
     "cell_type": "code",
     "collapsed": false,
     "input": [
      "import math\n",
      "import numpy as np\n",
      "import pandas as pd\n",
      "import matplotlib.pyplot as plt\n",
      "%matplotlib inline  "
     ],
     "language": "python",
     "metadata": {},
     "outputs": [],
     "prompt_number": 4
    },
    {
     "cell_type": "markdown",
     "metadata": {},
     "source": [
      "Should this give a problem, you can use pip from your ipython notebook and install any python package you might want. "
     ]
    },
    {
     "cell_type": "code",
     "collapsed": false,
     "input": [
      "import pip\n",
      "\n",
      "def install(package):\n",
      "   pip.main(['install', package])\n",
      "\n",
      "install('requests') "
     ],
     "language": "python",
     "metadata": {},
     "outputs": [
      {
       "output_type": "stream",
       "stream": "stdout",
       "text": [
        "Requirement already satisfied (use --upgrade to upgrade): requests in /Users/code/anaconda/lib/python3.4/site-packages\n"
       ]
      },
      {
       "output_type": "stream",
       "stream": "stdout",
       "text": [
        "Requirement already satisfied (use --upgrade to upgrade): requests in /Users/code/anaconda/lib/python3.4/site-packages\n"
       ]
      },
      {
       "output_type": "stream",
       "stream": "stdout",
       "text": [
        "Cleaning up...\n"
       ]
      },
      {
       "output_type": "stream",
       "stream": "stdout",
       "text": [
        "Cleaning up...\n"
       ]
      }
     ],
     "prompt_number": 19
    },
    {
     "cell_type": "markdown",
     "metadata": {},
     "source": [
      "### Notebook Shortcuts \n",
      "\n",
      "A list of some useful ones:\n",
      "\n",
      "- `ctrl + enter` : run cell\n",
      "- `shift + enter` : run cell and create/select the one after\n",
      "- `ctrl + m` : enter command mode \n",
      "- `ctrl + s` :save notebook \n",
      "\n",
      "While in command mode the shortcuts work a bit different: \n",
      "\n",
      "- up/down arrows browser through different cells \n",
      "- `y` : changes cell to a code cell \n",
      "- `m` : changes cell to a markdown cell\n",
      "- `a` : create new cell above \n",
      "- `b` : create new cell below \n",
      "- `l` : toggle line numbers \n",
      "- `dd` : delete cell \n",
      "\n",
      "You can always access the docs/help by added the `?` in front of any function in python. You can escape this helper view by pressing `q`."
     ]
    },
    {
     "cell_type": "code",
     "collapsed": false,
     "input": [
      "?np.abs"
     ],
     "language": "python",
     "metadata": {},
     "outputs": [],
     "prompt_number": 20
    },
    {
     "cell_type": "markdown",
     "metadata": {},
     "source": [
      "## Reminder of Python \n"
     ]
    },
    {
     "cell_type": "code",
     "collapsed": false,
     "input": [
      "for i in [1,2,3,2,1]:\n",
      "    print(i)"
     ],
     "language": "python",
     "metadata": {},
     "outputs": [
      {
       "output_type": "stream",
       "stream": "stdout",
       "text": [
        "1\n",
        "2\n",
        "3\n",
        "2\n",
        "1\n"
       ]
      }
     ],
     "prompt_number": 21
    },
    {
     "cell_type": "code",
     "collapsed": false,
     "input": [
      "for i,j in enumerate([1,2,3,2,1]):\n",
      "    print(i,j)"
     ],
     "language": "python",
     "metadata": {},
     "outputs": [
      {
       "output_type": "stream",
       "stream": "stdout",
       "text": [
        "0 1\n",
        "1 2\n",
        "2 3\n",
        "3 2\n",
        "4 1\n"
       ]
      }
     ],
     "prompt_number": 22
    },
    {
     "cell_type": "code",
     "collapsed": false,
     "input": [
      "def double(x):\n",
      "    return(x*2)\n",
      "\n",
      "for i in [1,2,3,2,1]:\n",
      "    print(double(i))"
     ],
     "language": "python",
     "metadata": {},
     "outputs": [
      {
       "output_type": "stream",
       "stream": "stdout",
       "text": [
        "2\n",
        "4\n",
        "6\n",
        "4\n",
        "2\n"
       ]
      }
     ],
     "prompt_number": 23
    },
    {
     "cell_type": "code",
     "collapsed": false,
     "input": [
      "[double(i) for i in [1,2,3,2,1]]"
     ],
     "language": "python",
     "metadata": {},
     "outputs": [
      {
       "metadata": {},
       "output_type": "pyout",
       "prompt_number": 24,
       "text": [
        "[2, 4, 6, 4, 2]"
       ]
      }
     ],
     "prompt_number": 24
    },
    {
     "cell_type": "code",
     "collapsed": false,
     "input": [
      "[double(i) for i in [1,2,3,2,1] if i % 2 == 0]"
     ],
     "language": "python",
     "metadata": {},
     "outputs": [
      {
       "metadata": {},
       "output_type": "pyout",
       "prompt_number": 25,
       "text": [
        "[4, 4]"
       ]
      }
     ],
     "prompt_number": 25
    },
    {
     "cell_type": "code",
     "collapsed": false,
     "input": [
      "[(i, double(j)) for (i,j) in enumerate([1,2,3,2,1])]"
     ],
     "language": "python",
     "metadata": {},
     "outputs": [
      {
       "metadata": {},
       "output_type": "pyout",
       "prompt_number": 26,
       "text": [
        "[(0, 2), (1, 4), (2, 6), (3, 4), (4, 2)]"
       ]
      }
     ],
     "prompt_number": 26
    },
    {
     "cell_type": "code",
     "collapsed": false,
     "input": [
      "for i in map(double, [1,2,3,2,1]):\n",
      "    print(i)"
     ],
     "language": "python",
     "metadata": {},
     "outputs": [
      {
       "output_type": "stream",
       "stream": "stdout",
       "text": [
        "2\n",
        "4\n",
        "6\n",
        "4\n",
        "2\n"
       ]
      }
     ],
     "prompt_number": 31
    },
    {
     "cell_type": "code",
     "collapsed": false,
     "input": [
      "for i in map(lambda x: x*2, [1,2,3,2,1]):\n",
      "    print(i)"
     ],
     "language": "python",
     "metadata": {},
     "outputs": [
      {
       "output_type": "stream",
       "stream": "stdout",
       "text": [
        "2\n",
        "4\n",
        "6\n",
        "4\n",
        "2\n"
       ]
      }
     ],
     "prompt_number": 32
    },
    {
     "cell_type": "markdown",
     "metadata": {},
     "source": [
      "## Key Lessons \n",
      "\n",
      "- list comprehensions are shorter and often simpler\n",
      "- it's ok to use forloops if you need them, but sometimes its better not to\n",
      "- map/apply type functions seperate concerns \n",
      "- there are usually multiple ways to do something\n",
      "- pick the obvious way of doing something but think about it\n",
      "\n",
      "## Lists and performance \n",
      "\n",
      "A downside of python is that because it is a dynamically typed language (no compiler, no types) we loose some performance. The numpy library is meant to counter this by giving us an API with python objects that call highly performant C-code so that we can still write python code for performant numerical problems. \n",
      "\n",
      "Let's check out the performance. We can use the `%%timeit` notebook magic. "
     ]
    },
    {
     "cell_type": "code",
     "collapsed": false,
     "input": [
      "%%timeit \n",
      "sum(range(0,100000))"
     ],
     "language": "python",
     "metadata": {},
     "outputs": [
      {
       "output_type": "stream",
       "stream": "stdout",
       "text": [
        "1000 loops, best of 3: 1.97 ms per loop\n"
       ]
      }
     ],
     "prompt_number": 93
    },
    {
     "cell_type": "code",
     "collapsed": false,
     "input": [
      "%%timeit \n",
      "sum([i for i in range(0,100000)])"
     ],
     "language": "python",
     "metadata": {},
     "outputs": [
      {
       "output_type": "stream",
       "stream": "stdout",
       "text": [
        "100 loops, best of 3: 5.88 ms per loop\n"
       ]
      }
     ],
     "prompt_number": 94
    },
    {
     "cell_type": "code",
     "collapsed": false,
     "input": [
      "%%timeit\n",
      "np.sum(np.arange(0,100000))"
     ],
     "language": "python",
     "metadata": {},
     "outputs": [
      {
       "output_type": "stream",
       "stream": "stdout",
       "text": [
        "10000 loops, best of 3: 94.7 \u00b5s per loop\n"
       ]
      }
     ],
     "prompt_number": 95
    },
    {
     "cell_type": "code",
     "collapsed": false,
     "input": [
      "%%timeit\n",
      "np.sum([i for i in range(0,100000)])"
     ],
     "language": "python",
     "metadata": {},
     "outputs": [
      {
       "output_type": "stream",
       "stream": "stdout",
       "text": [
        "100 loops, best of 3: 10.4 ms per loop\n"
       ]
      }
     ],
     "prompt_number": 96
    },
    {
     "cell_type": "code",
     "collapsed": false,
     "input": [
      "%%timeit\n",
      "sum(np.arange(0,100000))"
     ],
     "language": "python",
     "metadata": {},
     "outputs": [
      {
       "output_type": "stream",
       "stream": "stdout",
       "text": [
        "100 loops, best of 3: 8.32 ms per loop\n"
       ]
      }
     ],
     "prompt_number": 92
    },
    {
     "cell_type": "code",
     "collapsed": false,
     "input": [
      "%%timeit \n",
      "s = 0 \n",
      "for i in range(0,100000):\n",
      "    s = s + 1"
     ],
     "language": "python",
     "metadata": {},
     "outputs": [
      {
       "output_type": "stream",
       "stream": "stdout",
       "text": [
        "100 loops, best of 3: 6.84 ms per loop\n"
       ]
      }
     ],
     "prompt_number": 97
    },
    {
     "cell_type": "markdown",
     "metadata": {},
     "source": [
      "Keep all your functions restricted to numpy if you want performant code. The moment you mix python number lists with numpy arrays the code seems to drastically loose performance. Using the standard python sum function on a numpy array is the worst case! \n",
      "\n",
      "Similar conclusions can be made when dealing with vectorized operations."
     ]
    },
    {
     "cell_type": "code",
     "collapsed": false,
     "input": [
      "%%timeit \n",
      "[2*i for i in range(0,100000)]"
     ],
     "language": "python",
     "metadata": {},
     "outputs": [
      {
       "output_type": "stream",
       "stream": "stdout",
       "text": [
        "100 loops, best of 3: 8 ms per loop\n"
       ]
      }
     ],
     "prompt_number": 98
    },
    {
     "cell_type": "code",
     "collapsed": false,
     "input": [
      "%%timeit\n",
      "np.arange(0,100000) * 2"
     ],
     "language": "python",
     "metadata": {},
     "outputs": [
      {
       "output_type": "stream",
       "stream": "stdout",
       "text": [
        "10000 loops, best of 3: 112 \u00b5s per loop\n"
       ]
      }
     ],
     "prompt_number": 99
    },
    {
     "cell_type": "code",
     "collapsed": false,
     "input": [
      "%%timeit \n",
      "[math.sqrt(i) for i in range(0,100000)]"
     ],
     "language": "python",
     "metadata": {},
     "outputs": [
      {
       "output_type": "stream",
       "stream": "stdout",
       "text": [
        "100 loops, best of 3: 16.4 ms per loop\n"
       ]
      }
     ],
     "prompt_number": 100
    },
    {
     "cell_type": "code",
     "collapsed": false,
     "input": [
      "%%timeit \n",
      "np.sqrt(np.arange(0,100000))"
     ],
     "language": "python",
     "metadata": {},
     "outputs": [
      {
       "output_type": "stream",
       "stream": "stdout",
       "text": [
        "1000 loops, best of 3: 352 \u00b5s per loop\n"
       ]
      }
     ],
     "prompt_number": 101
    },
    {
     "cell_type": "markdown",
     "metadata": {},
     "source": [
      "The reason behind the performance cost has to do with type-checking/casting that needs to be done at runtime instead of compile time. Numpy will run precompiled C-code, any combination with normal python code will therefor add overhead. \n",
      "\n",
      "Numpy arrays are very differeny from python lists. You can easily cast between the two, but you should notice they will behave differently around operators. "
     ]
    },
    {
     "cell_type": "code",
     "collapsed": false,
     "input": [
      "py_arr = [1,2,3,2,1]\n",
      "np_arr = np.array(py_arr)\n",
      "print(py_arr)\n",
      "print(np_arr)"
     ],
     "language": "python",
     "metadata": {},
     "outputs": [
      {
       "output_type": "stream",
       "stream": "stdout",
       "text": [
        "[1, 2, 3, 2, 1]\n",
        "[1 2 3 2 1]\n"
       ]
      }
     ],
     "prompt_number": 104
    },
    {
     "cell_type": "code",
     "collapsed": false,
     "input": [
      "py_arr * 2"
     ],
     "language": "python",
     "metadata": {},
     "outputs": [
      {
       "metadata": {},
       "output_type": "pyout",
       "prompt_number": 106,
       "text": [
        "[1, 2, 3, 2, 1, 1, 2, 3, 2, 1]"
       ]
      }
     ],
     "prompt_number": 106
    },
    {
     "cell_type": "code",
     "collapsed": false,
     "input": [
      "np_arr * 2"
     ],
     "language": "python",
     "metadata": {},
     "outputs": [
      {
       "metadata": {},
       "output_type": "pyout",
       "prompt_number": 107,
       "text": [
        "array([2, 4, 6, 4, 2])"
       ]
      }
     ],
     "prompt_number": 107
    },
    {
     "cell_type": "code",
     "collapsed": false,
     "input": [
      "print(np_arr.dtype)\n",
      "print(np_arr.shape)"
     ],
     "language": "python",
     "metadata": {},
     "outputs": [
      {
       "output_type": "stream",
       "stream": "stdout",
       "text": [
        "int64\n",
        "(5,)\n"
       ]
      }
     ],
     "prompt_number": 108
    },
    {
     "cell_type": "markdown",
     "metadata": {},
     "source": [
      "You can also change the contents of the array and numpy will update the datatype."
     ]
    },
    {
     "cell_type": "code",
     "collapsed": false,
     "input": [
      "np.array([1.0, 2.5]).dtype"
     ],
     "language": "python",
     "metadata": {},
     "outputs": [
      {
       "metadata": {},
       "output_type": "pyout",
       "prompt_number": 109,
       "text": [
        "dtype('float64')"
       ]
      }
     ],
     "prompt_number": 109
    },
    {
     "cell_type": "code",
     "collapsed": false,
     "input": [
      "np.array(['as dwarves we want','more','profit']).dtype"
     ],
     "language": "python",
     "metadata": {},
     "outputs": [
      {
       "metadata": {},
       "output_type": "pyout",
       "prompt_number": 113,
       "text": [
        "dtype('<U18')"
       ]
      }
     ],
     "prompt_number": 113
    },
    {
     "cell_type": "markdown",
     "metadata": {},
     "source": [
      "There are [many](http://docs.scipy.org/doc/numpy/reference/generated/numpy.dtype.html) datatypes out there. For today, we will only focus on numerical `float64` arrays and matrices. \n",
      "\n",
      "You can declare arrays very easily in numpy. Here are some common initialization functions."
     ]
    },
    {
     "cell_type": "code",
     "collapsed": false,
     "input": [
      "np.zeros([3,3])"
     ],
     "language": "python",
     "metadata": {},
     "outputs": [
      {
       "metadata": {},
       "output_type": "pyout",
       "prompt_number": 116,
       "text": [
        "array([[ 0.,  0.,  0.],\n",
        "       [ 0.,  0.,  0.],\n",
        "       [ 0.,  0.,  0.]])"
       ]
      }
     ],
     "prompt_number": 116
    },
    {
     "cell_type": "code",
     "collapsed": false,
     "input": [
      "np.ones(3)"
     ],
     "language": "python",
     "metadata": {},
     "outputs": [
      {
       "metadata": {},
       "output_type": "pyout",
       "prompt_number": 117,
       "text": [
        "array([ 1.,  1.,  1.])"
       ]
      }
     ],
     "prompt_number": 117
    },
    {
     "cell_type": "code",
     "collapsed": false,
     "input": [
      "np.eye(3)"
     ],
     "language": "python",
     "metadata": {},
     "outputs": [
      {
       "metadata": {},
       "output_type": "pyout",
       "prompt_number": 118,
       "text": [
        "array([[ 1.,  0.,  0.],\n",
        "       [ 0.,  1.,  0.],\n",
        "       [ 0.,  0.,  1.]])"
       ]
      }
     ],
     "prompt_number": 118
    },
    {
     "cell_type": "code",
     "collapsed": false,
     "input": [
      "np.arange(1,10,0.5)"
     ],
     "language": "python",
     "metadata": {},
     "outputs": [
      {
       "metadata": {},
       "output_type": "pyout",
       "prompt_number": 120,
       "text": [
        "array([ 1. ,  1.5,  2. ,  2.5,  3. ,  3.5,  4. ,  4.5,  5. ,  5.5,  6. ,\n",
        "        6.5,  7. ,  7.5,  8. ,  8.5,  9. ,  9.5])"
       ]
      }
     ],
     "prompt_number": 120
    },
    {
     "cell_type": "code",
     "collapsed": false,
     "input": [
      "np.linspace(1,10, 20)"
     ],
     "language": "python",
     "metadata": {},
     "outputs": [
      {
       "metadata": {},
       "output_type": "pyout",
       "prompt_number": 121,
       "text": [
        "array([  1.        ,   1.47368421,   1.94736842,   2.42105263,\n",
        "         2.89473684,   3.36842105,   3.84210526,   4.31578947,\n",
        "         4.78947368,   5.26315789,   5.73684211,   6.21052632,\n",
        "         6.68421053,   7.15789474,   7.63157895,   8.10526316,\n",
        "         8.57894737,   9.05263158,   9.52631579,  10.        ])"
       ]
      }
     ],
     "prompt_number": 121
    },
    {
     "cell_type": "code",
     "collapsed": false,
     "input": [
      "np.logspace(1, 7, num=7, base=10)"
     ],
     "language": "python",
     "metadata": {},
     "outputs": [
      {
       "metadata": {},
       "output_type": "pyout",
       "prompt_number": 122,
       "text": [
        "array([  1.00000000e+01,   1.00000000e+02,   1.00000000e+03,\n",
        "         1.00000000e+04,   1.00000000e+05,   1.00000000e+06,\n",
        "         1.00000000e+07])"
       ]
      }
     ],
     "prompt_number": 122
    },
    {
     "cell_type": "code",
     "collapsed": false,
     "input": [
      "np.arange(15).reshape([3,5])"
     ],
     "language": "python",
     "metadata": {},
     "outputs": [
      {
       "metadata": {},
       "output_type": "pyout",
       "prompt_number": 123,
       "text": [
        "array([[ 0,  1,  2,  3,  4],\n",
        "       [ 5,  6,  7,  8,  9],\n",
        "       [10, 11, 12, 13, 14]])"
       ]
      }
     ],
     "prompt_number": 123
    },
    {
     "cell_type": "markdown",
     "metadata": {},
     "source": [
      "As stated before, we can do vectorized operations on these arrays as if we are doing true mathematical operators on them. If you remember your linear algebra from college, the following might feel more familiar."
     ]
    },
    {
     "cell_type": "code",
     "collapsed": false,
     "input": [
      "np_nums = np.array([1.2, 3.5, 5.2])\n",
      "np_nums + 1"
     ],
     "language": "python",
     "metadata": {},
     "outputs": [
      {
       "metadata": {},
       "output_type": "pyout",
       "prompt_number": 125,
       "text": [
        "array([ 2.2,  4.5,  6.2])"
       ]
      }
     ],
     "prompt_number": 125
    },
    {
     "cell_type": "code",
     "collapsed": false,
     "input": [
      "np_nums - np_nums"
     ],
     "language": "python",
     "metadata": {},
     "outputs": [
      {
       "metadata": {},
       "output_type": "pyout",
       "prompt_number": 126,
       "text": [
        "array([ 0.,  0.,  0.])"
       ]
      }
     ],
     "prompt_number": 126
    },
    {
     "cell_type": "code",
     "collapsed": false,
     "input": [
      "np.eye(3)"
     ],
     "language": "python",
     "metadata": {},
     "outputs": [
      {
       "metadata": {},
       "output_type": "pyout",
       "prompt_number": 128,
       "text": [
        "array([[ 1.,  0.,  0.],\n",
        "       [ 0.,  1.,  0.],\n",
        "       [ 0.,  0.,  1.]])"
       ]
      }
     ],
     "prompt_number": 128
    },
    {
     "cell_type": "code",
     "collapsed": false,
     "input": [
      "np_nums * np.eye(3)"
     ],
     "language": "python",
     "metadata": {},
     "outputs": [
      {
       "metadata": {},
       "output_type": "pyout",
       "prompt_number": 129,
       "text": [
        "array([[ 1.2,  0. ,  0. ],\n",
        "       [ 0. ,  3.5,  0. ],\n",
        "       [ 0. ,  0. ,  5.2]])"
       ]
      }
     ],
     "prompt_number": 129
    },
    {
     "cell_type": "markdown",
     "metadata": {},
     "source": [
      "You can also slice/dice/select numbers easily."
     ]
    },
    {
     "cell_type": "code",
     "collapsed": false,
     "input": [
      "arr = np.array([9,4,3,5,2,1,5,3])\n",
      "arr[1]"
     ],
     "language": "python",
     "metadata": {},
     "outputs": [
      {
       "metadata": {},
       "output_type": "pyout",
       "prompt_number": 131,
       "text": [
        "4"
       ]
      }
     ],
     "prompt_number": 131
    },
    {
     "cell_type": "code",
     "collapsed": false,
     "input": [
      "arr[1:5]"
     ],
     "language": "python",
     "metadata": {},
     "outputs": [
      {
       "metadata": {},
       "output_type": "pyout",
       "prompt_number": 133,
       "text": [
        "array([4, 3, 5, 2])"
       ]
      }
     ],
     "prompt_number": 133
    },
    {
     "cell_type": "code",
     "collapsed": false,
     "input": [
      "arr[1:5] = 3 \n",
      "arr "
     ],
     "language": "python",
     "metadata": {},
     "outputs": [
      {
       "metadata": {},
       "output_type": "pyout",
       "prompt_number": 134,
       "text": [
        "array([9, 3, 3, 3, 3, 1, 5, 3])"
       ]
      }
     ],
     "prompt_number": 134
    },
    {
     "cell_type": "code",
     "collapsed": false,
     "input": [
      "arr == 3"
     ],
     "language": "python",
     "metadata": {},
     "outputs": [
      {
       "metadata": {},
       "output_type": "pyout",
       "prompt_number": 135,
       "text": [
        "array([False,  True,  True,  True,  True, False, False,  True], dtype=bool)"
       ]
      }
     ],
     "prompt_number": 135
    },
    {
     "cell_type": "code",
     "collapsed": false,
     "input": [
      "arr[arr != 3]"
     ],
     "language": "python",
     "metadata": {},
     "outputs": [
      {
       "metadata": {},
       "output_type": "pyout",
       "prompt_number": 136,
       "text": [
        "array([9, 1, 5])"
       ]
      }
     ],
     "prompt_number": 136
    },
    {
     "cell_type": "code",
     "collapsed": false,
     "input": [
      "ran = np.random.normal(0,1,[4,4])\n",
      "ran"
     ],
     "language": "python",
     "metadata": {},
     "outputs": [
      {
       "metadata": {},
       "output_type": "pyout",
       "prompt_number": 137,
       "text": [
        "array([[ 1.04723265,  0.5210417 ,  1.33970828,  0.293659  ],\n",
        "       [-0.75801393, -0.53671263, -0.3798806 ,  1.0301477 ],\n",
        "       [ 0.36054173, -0.09192411, -0.07407251, -0.30138108],\n",
        "       [-1.55911793,  0.58723444,  0.22910228,  2.26378734]])"
       ]
      }
     ],
     "prompt_number": 137
    },
    {
     "cell_type": "code",
     "collapsed": false,
     "input": [
      "ran[ran < 0] = 0 \n",
      "ran"
     ],
     "language": "python",
     "metadata": {},
     "outputs": [
      {
       "metadata": {},
       "output_type": "pyout",
       "prompt_number": 138,
       "text": [
        "array([[ 1.04723265,  0.5210417 ,  1.33970828,  0.293659  ],\n",
        "       [ 0.        ,  0.        ,  0.        ,  1.0301477 ],\n",
        "       [ 0.36054173,  0.        ,  0.        ,  0.        ],\n",
        "       [ 0.        ,  0.58723444,  0.22910228,  2.26378734]])"
       ]
      }
     ],
     "prompt_number": 138
    },
    {
     "cell_type": "markdown",
     "metadata": {},
     "source": [
      "## Plotting with numpy\n",
      "\n",
      "I found another nice riddle. \n",
      "\n",
      "> When there's a wind blowing, does a round-trip by plane take more time, less time, or the same time? \n",
      "\n",
      "Let's go and use full on math for this one. Denote $v$ the speed of the airplane and let $w$ be the effect on the speed caused by the wind. Then the time to get from A to B and the time to get from B to A is defined via: \n",
      "\n",
      "\\begin{align} \n",
      "t_{AB}& = \\frac{d}{v+w}\\\\ \n",
      "t_{BA}& = \\frac{d}{v-w} \n",
      "\\end{align}\n",
      "\n",
      "The direction of the wind is not that important as long as the wind remains in the same direction. Notice then that the total time needed make a round trip becomes: \n",
      "\n",
      "\\begin{align} \n",
      "T  = t_{AB} + t_{BA}& = \\frac{d}{v+w} + \\frac{d}{v-w}\\\\ \n",
      "& = d \\frac{(v-w)+(v+w)}{(v+w)(v-w)}\\\\\n",
      "& = 2d \\frac{v}{v^2-w^2}\\\\\n",
      "T(w)& = 2d \\frac{v}{v^2-w^2}\n",
      "\\end{align}\n",
      "\n",
      "Let's go and plot this. "
     ]
    },
    {
     "cell_type": "code",
     "collapsed": false,
     "input": [
      "w = np.arange(-99, 99, 0.1)\n",
      "v = 100 \n",
      "d = 1200\n",
      "t = 2 * d * v / (v**2 - w**2)"
     ],
     "language": "python",
     "metadata": {},
     "outputs": [],
     "prompt_number": 139
    },
    {
     "cell_type": "code",
     "collapsed": false,
     "input": [
      "plt.plot(t, 'o')"
     ],
     "language": "python",
     "metadata": {},
     "outputs": [
      {
       "metadata": {},
       "output_type": "pyout",
       "prompt_number": 140,
       "text": [
        "[<matplotlib.lines.Line2D at 0x10c7d5e80>]"
       ]
      },
      {
       "metadata": {},
       "output_type": "display_data",
       "png": "[encoded data removed]",
       "text": [
        "<matplotlib.figure.Figure at 0x10c6af2e8>"
       ]
      }
     ],
     "prompt_number": 140
    },
    {
     "cell_type": "markdown",
     "metadata": {},
     "source": [
      "When $v$ starts to resemble $w$ the traveling time goes to infinity, which makes sense. \n",
      "\n",
      "The main point though, is that our single line of code that is calculating all this is very elegant: \n",
      "\n",
      "    t = 2 * d * v / (v**2 - w**2)\n",
      "    \n",
      "If you are used to working with maths the vectorized operations aren't just very performant, they are also very elegant in writing.\n",
      "\n",
      "## Simulation \n",
      "\n",
      "Numpy has great support for random number generation. Here's a few results from random generated sequences. \n",
      "\n",
      "#### Uniform Distribution"
     ]
    },
    {
     "cell_type": "code",
     "collapsed": false,
     "input": [
      "rns = np.random.uniform(0,1,10000)\n",
      "plt.hist(rns, color=\"steelblue\", bins=20)"
     ],
     "language": "python",
     "metadata": {},
     "outputs": [
      {
       "metadata": {},
       "output_type": "pyout",
       "prompt_number": 146,
       "text": [
        "(array([ 517.,  488.,  503.,  476.,  515.,  480.,  493.,  476.,  488.,\n",
        "         515.,  488.,  528.,  519.,  475.,  497.,  512.,  519.,  501.,\n",
        "         512.,  498.]),\n",
        " array([  1.66370635e-04,   5.01546807e-02,   1.00142991e-01,\n",
        "          1.50131301e-01,   2.00119611e-01,   2.50107921e-01,\n",
        "          3.00096231e-01,   3.50084541e-01,   4.00072851e-01,\n",
        "          4.50061161e-01,   5.00049471e-01,   5.50037781e-01,\n",
        "          6.00026091e-01,   6.50014401e-01,   7.00002712e-01,\n",
        "          7.49991022e-01,   7.99979332e-01,   8.49967642e-01,\n",
        "          8.99955952e-01,   9.49944262e-01,   9.99932572e-01]),\n",
        " <a list of 20 Patch objects>)"
       ]
      },
      {
       "metadata": {},
       "output_type": "display_data",
       "png": "[encoded data removed]",
       "text": [
        "<matplotlib.figure.Figure at 0x10c37bfd0>"
       ]
      }
     ],
     "prompt_number": 146
    },
    {
     "cell_type": "markdown",
     "metadata": {},
     "source": [
      "####Normal Distribution"
     ]
    },
    {
     "cell_type": "code",
     "collapsed": false,
     "input": [
      "rns = np.random.normal(0,1,10000)\n",
      "plt.hist(rns, color=\"steelblue\", bins=20)"
     ],
     "language": "python",
     "metadata": {},
     "outputs": [
      {
       "metadata": {},
       "output_type": "pyout",
       "prompt_number": 147,
       "text": [
        "(array([    3.,    11.,    37.,    77.,   164.,   293.,   614.,   841.,\n",
        "         1134.,  1380.,  1400.,  1252.,  1034.,   765.,   475.,   280.,\n",
        "          140.,    56.,    35.,     9.]),\n",
        " array([-3.66053043, -3.30701837, -2.95350632, -2.59999426, -2.2464822 ,\n",
        "        -1.89297015, -1.53945809, -1.18594604, -0.83243398, -0.47892192,\n",
        "        -0.12540987,  0.22810219,  0.58161425,  0.9351263 ,  1.28863836,\n",
        "         1.64215041,  1.99566247,  2.34917453,  2.70268658,  3.05619864,\n",
        "         3.4097107 ]),\n",
        " <a list of 20 Patch objects>)"
       ]
      },
      {
       "metadata": {},
       "output_type": "display_data",
       "png": "[encoded data removed]",
       "text": [
        "<matplotlib.figure.Figure at 0x10ce34f60>"
       ]
      }
     ],
     "prompt_number": 147
    },
    {
     "cell_type": "markdown",
     "metadata": {},
     "source": [
      "####Random Integer Distribution"
     ]
    },
    {
     "cell_type": "code",
     "collapsed": false,
     "input": [
      "rns = np.random.randint(1,4,10000)\n",
      "plt.hist(rns, color=\"steelblue\", bins=16)"
     ],
     "language": "python",
     "metadata": {},
     "outputs": [
      {
       "metadata": {},
       "output_type": "pyout",
       "prompt_number": 165,
       "text": [
        "(array([ 3456.,     0.,     0.,     0.,     0.,     0.,     0.,     0.,\n",
        "         3285.,     0.,     0.,     0.,     0.,     0.,     0.,  3259.]),\n",
        " array([ 1.   ,  1.125,  1.25 ,  1.375,  1.5  ,  1.625,  1.75 ,  1.875,\n",
        "         2.   ,  2.125,  2.25 ,  2.375,  2.5  ,  2.625,  2.75 ,  2.875,  3.   ]),\n",
        " <a list of 16 Patch objects>)"
       ]
      },
      {
       "metadata": {},
       "output_type": "display_data",
       "png": "[encoded data removed]",
       "text": [
        "<matplotlib.figure.Figure at 0x10ef8e3c8>"
       ]
      }
     ],
     "prompt_number": 165
    },
    {
     "cell_type": "markdown",
     "metadata": {},
     "source": [
      "####Binomial Distribution"
     ]
    },
    {
     "cell_type": "code",
     "collapsed": false,
     "input": [
      "rns = np.random.binomial(1,0.33,10000)\n",
      "plt.hist(rns, color=\"steelblue\", bins=10)"
     ],
     "language": "python",
     "metadata": {},
     "outputs": [
      {
       "metadata": {},
       "output_type": "pyout",
       "prompt_number": 166,
       "text": [
        "(array([ 6680.,     0.,     0.,     0.,     0.,     0.,     0.,     0.,\n",
        "            0.,  3320.]),\n",
        " array([ 0. ,  0.1,  0.2,  0.3,  0.4,  0.5,  0.6,  0.7,  0.8,  0.9,  1. ]),\n",
        " <a list of 10 Patch objects>)"
       ]
      },
      {
       "metadata": {},
       "output_type": "display_data",
       "png": "[encoded data removed]",
       "text": [
        "<matplotlib.figure.Figure at 0x10f1b26a0>"
       ]
      }
     ],
     "prompt_number": 166
    },
    {
     "cell_type": "code",
     "collapsed": false,
     "input": [
      "rns = np.random.binomial(10,0.33,10000)\n",
      "plt.hist(rns, color=\"steelblue\", bins=10)"
     ],
     "language": "python",
     "metadata": {},
     "outputs": [
      {
       "metadata": {},
       "output_type": "pyout",
       "prompt_number": 168,
       "text": [
        "(array([  190.,   922.,  1976.,  2549.,  2240.,  1380.,   576.,   135.,\n",
        "           29.,     3.]),\n",
        " array([ 0. ,  0.9,  1.8,  2.7,  3.6,  4.5,  5.4,  6.3,  7.2,  8.1,  9. ]),\n",
        " <a list of 10 Patch objects>)"
       ]
      },
      {
       "metadata": {},
       "output_type": "display_data",
       "png": "[encoded data removed]",
       "text": [
        "<matplotlib.figure.Figure at 0x10f3c5320>"
       ]
      }
     ],
     "prompt_number": 168
    },
    {
     "cell_type": "markdown",
     "metadata": {},
     "source": [
      "### Assignments Till Break / Before Pandas\n",
      "\n",
      "Here is a small list of some assignments. You may want to consult the numpy documentation to see if there are helper functions that can make your life a lot easier. \n",
      "\n",
      "1. Create 1000 random uniform numbers and find out what the largest number is. \n",
      "2. Estimate the probability that a random normal value lies between 0.1 and 0.5.\n",
      "3. Calculate the mean of 1000 random values. Is this what you expected? \n",
      "4. Use simulation to estimate the probability that two people in this room have the same birthday. \n",
      "\n",
      "### Solution to last problem "
     ]
    },
    {
     "cell_type": "code",
     "collapsed": false,
     "input": [
      "num_people = 30\n",
      "n_sims = 500\n",
      "\n",
      "def match():\n",
      "    r = np.random.randint(1,366,num_people)\n",
      "    return(len(np.unique(r)) != num_people)\n",
      "\n",
      "sum([match() for i in np.arange(1,n_sims)])"
     ],
     "language": "python",
     "metadata": {},
     "outputs": [
      {
       "metadata": {},
       "output_type": "pyout",
       "prompt_number": 230,
       "text": [
        "349"
       ]
      }
     ],
     "prompt_number": 230
    },
    {
     "cell_type": "code",
     "collapsed": false,
     "input": [
      "res = np.array([])\n",
      "\n",
      "for num_people in range(0,100):\n",
      "    count = sum([match() for i in np.arange(1,n_sims)])\n",
      "    p = count/n_sims\n",
      "    res = np.append(res, p)"
     ],
     "language": "python",
     "metadata": {},
     "outputs": [],
     "prompt_number": 231
    },
    {
     "cell_type": "markdown",
     "metadata": {},
     "source": [
      "We now have the simulated results for any number of people in the group. Let's also calculate the theoretical probability and compare it to our simulated results."
     ]
    },
    {
     "cell_type": "code",
     "collapsed": false,
     "input": [
      "theoretical = 1 - np.cumprod((1 - np.arange(0,100)/365))\n",
      "plt.plot(np.array([res, theoretical]).T, alpha=0.8)"
     ],
     "language": "python",
     "metadata": {},
     "outputs": [
      {
       "metadata": {},
       "output_type": "pyout",
       "prompt_number": 232,
       "text": [
        "[<matplotlib.lines.Line2D at 0x10fad4390>,\n",
        " <matplotlib.lines.Line2D at 0x10f9fce80>]"
       ]
      },
      {
       "metadata": {},
       "output_type": "display_data",
       "png": "[encoded data removed]",
       "text": [
        "<matplotlib.figure.Figure at 0x1101d1470>"
       ]
      }
     ],
     "prompt_number": 232
    },
    {
     "cell_type": "markdown",
     "metadata": {},
     "source": [
      "For larger values of `n_sims` we expect to be closed to the true value, but we can see that simulation can have it's value if the problem is hard to mathematically derive."
     ]
    },
    {
     "cell_type": "markdown",
     "metadata": {},
     "source": [
      "# BREAK \n",
      "\n",
      "## Pandas\n",
      "\n",
      "Numpy is very performant and useful but it doesn't resemble a sheet of data with rows and columns as much as we'd like. It's more like an array or a matrix. This is fine for the more sciency applications but it is less ideal for the applications where we are analysing a datasheet that you've been handed. \n",
      "\n",
      "Back in the day before code, this meant that you needed to use your mouse and click away in excel. \n",
      "\n",
      "![](http://www.quickmeme.com/img/35/3521d93d07b8a623d83663e3ad79407b5cebeaedc55f21d0be591290330f656c.jpg)\n",
      "\n",
      "Thankfully, we have pandas and python nowadays. The syntax of pandas is mostly similar to numpy, so let's get familiar with it."
     ]
    },
    {
     "cell_type": "code",
     "collapsed": false,
     "input": [
      "a = np.random.randn(10)\n",
      "pd.Series(a)"
     ],
     "language": "python",
     "metadata": {},
     "outputs": [
      {
       "metadata": {},
       "output_type": "pyout",
       "prompt_number": 7,
       "text": [
        "0   -1.903980\n",
        "1   -0.796607\n",
        "2   -0.492768\n",
        "3    0.662791\n",
        "4   -0.264066\n",
        "5    0.069842\n",
        "6    1.807904\n",
        "7    1.831943\n",
        "8    0.028834\n",
        "9    0.644580\n",
        "dtype: float64"
       ]
      }
     ],
     "prompt_number": 7
    },
    {
     "cell_type": "markdown",
     "metadata": {},
     "source": [
      "Notice that this is just like our numpy array but that we get an index attached. In this case the index is numeric, but it could even be a date or a string. As long as it is sortable and unique for each row, it can probably be used as an index."
     ]
    },
    {
     "cell_type": "code",
     "collapsed": false,
     "input": [
      "a = np.random.randn(10)\n",
      "b = np.random.randn(10)\n",
      "c = [ 'foo' if x > 0.5 else 'bar' for x in np.random.rand(10)]\n",
      "d = {'a':a, 'b':b, 'c':c} \n",
      "d"
     ],
     "language": "python",
     "metadata": {},
     "outputs": [
      {
       "metadata": {},
       "output_type": "pyout",
       "prompt_number": 9,
       "text": [
        "{'c': ['bar', 'bar', 'foo', 'bar', 'foo', 'foo', 'bar', 'foo', 'bar', 'foo'],\n",
        " 'a': array([ 0.34582421,  1.83860437, -0.01581687, -1.55907601,  0.32403519,\n",
        "         0.56228863, -0.69406098,  0.86465131, -1.65737683, -0.4476668 ]),\n",
        " 'b': array([ 1.70298702, -0.60884207, -1.23290827, -0.09253673, -0.39983871,\n",
        "        -1.93931721, -0.4929579 , -0.11545424, -0.64065162,  0.03678529])}"
       ]
      }
     ],
     "prompt_number": 9
    },
    {
     "cell_type": "markdown",
     "metadata": {},
     "source": [
      "We have just created a dictionary. Pandas can convert these into series via the `DataFrame` function. A dataframe can be seen as a table where each of the series represent columns. The index of the series represents the rownumber. \n",
      "\n",
      "This DataFrame object will be the main object you will talk to when using pandas."
     ]
    },
    {
     "cell_type": "code",
     "collapsed": false,
     "input": [
      "df = pd.DataFrame(d) \n",
      "df"
     ],
     "language": "python",
     "metadata": {},
     "outputs": [
      {
       "html": [
        "<div style=\"max-height:1000px;max-width:1500px;overflow:auto;\">\n",
        "<table border=\"1\" class=\"dataframe\">\n",
        "  <thead>\n",
        "    <tr style=\"text-align: right;\">\n",
        "      <th></th>\n",
        "      <th>a</th>\n",
        "      <th>b</th>\n",
        "      <th>c</th>\n",
        "    </tr>\n",
        "  </thead>\n",
        "  <tbody>\n",
        "    <tr>\n",
        "      <th>0</th>\n",
        "      <td> 0.345824</td>\n",
        "      <td> 1.702987</td>\n",
        "      <td> bar</td>\n",
        "    </tr>\n",
        "    <tr>\n",
        "      <th>1</th>\n",
        "      <td> 1.838604</td>\n",
        "      <td>-0.608842</td>\n",
        "      <td> bar</td>\n",
        "    </tr>\n",
        "    <tr>\n",
        "      <th>2</th>\n",
        "      <td>-0.015817</td>\n",
        "      <td>-1.232908</td>\n",
        "      <td> foo</td>\n",
        "    </tr>\n",
        "    <tr>\n",
        "      <th>3</th>\n",
        "      <td>-1.559076</td>\n",
        "      <td>-0.092537</td>\n",
        "      <td> bar</td>\n",
        "    </tr>\n",
        "    <tr>\n",
        "      <th>4</th>\n",
        "      <td> 0.324035</td>\n",
        "      <td>-0.399839</td>\n",
        "      <td> foo</td>\n",
        "    </tr>\n",
        "    <tr>\n",
        "      <th>5</th>\n",
        "      <td> 0.562289</td>\n",
        "      <td>-1.939317</td>\n",
        "      <td> foo</td>\n",
        "    </tr>\n",
        "    <tr>\n",
        "      <th>6</th>\n",
        "      <td>-0.694061</td>\n",
        "      <td>-0.492958</td>\n",
        "      <td> bar</td>\n",
        "    </tr>\n",
        "    <tr>\n",
        "      <th>7</th>\n",
        "      <td> 0.864651</td>\n",
        "      <td>-0.115454</td>\n",
        "      <td> foo</td>\n",
        "    </tr>\n",
        "    <tr>\n",
        "      <th>8</th>\n",
        "      <td>-1.657377</td>\n",
        "      <td>-0.640652</td>\n",
        "      <td> bar</td>\n",
        "    </tr>\n",
        "    <tr>\n",
        "      <th>9</th>\n",
        "      <td>-0.447667</td>\n",
        "      <td> 0.036785</td>\n",
        "      <td> foo</td>\n",
        "    </tr>\n",
        "  </tbody>\n",
        "</table>\n",
        "</div>"
       ],
       "metadata": {},
       "output_type": "pyout",
       "prompt_number": 12,
       "text": [
        "          a         b    c\n",
        "0  0.345824  1.702987  bar\n",
        "1  1.838604 -0.608842  bar\n",
        "2 -0.015817 -1.232908  foo\n",
        "3 -1.559076 -0.092537  bar\n",
        "4  0.324035 -0.399839  foo\n",
        "5  0.562289 -1.939317  foo\n",
        "6 -0.694061 -0.492958  bar\n",
        "7  0.864651 -0.115454  foo\n",
        "8 -1.657377 -0.640652  bar\n",
        "9 -0.447667  0.036785  foo"
       ]
      }
     ],
     "prompt_number": 12
    },
    {
     "cell_type": "markdown",
     "metadata": {},
     "source": [
      "### Some simple queries you could make to a DataFrame "
     ]
    },
    {
     "cell_type": "code",
     "collapsed": false,
     "input": [
      "df['a']"
     ],
     "language": "python",
     "metadata": {},
     "outputs": [
      {
       "metadata": {},
       "output_type": "pyout",
       "prompt_number": 19,
       "text": [
        "0    0.345824\n",
        "1    1.838604\n",
        "2   -0.015817\n",
        "3   -1.559076\n",
        "4    0.324035\n",
        "5    0.562289\n",
        "6   -0.694061\n",
        "7    0.864651\n",
        "8   -1.657377\n",
        "9   -0.447667\n",
        "Name: a, dtype: float64"
       ]
      }
     ],
     "prompt_number": 19
    },
    {
     "cell_type": "code",
     "collapsed": false,
     "input": [
      "df['a'] < 0"
     ],
     "language": "python",
     "metadata": {},
     "outputs": [
      {
       "metadata": {},
       "output_type": "pyout",
       "prompt_number": 20,
       "text": [
        "0    False\n",
        "1    False\n",
        "2     True\n",
        "3     True\n",
        "4    False\n",
        "5    False\n",
        "6     True\n",
        "7    False\n",
        "8     True\n",
        "9     True\n",
        "Name: a, dtype: bool"
       ]
      }
     ],
     "prompt_number": 20
    },
    {
     "cell_type": "code",
     "collapsed": false,
     "input": [
      "df['e'] = 1 + df.a\n",
      "df"
     ],
     "language": "python",
     "metadata": {},
     "outputs": [
      {
       "html": [
        "<div style=\"max-height:1000px;max-width:1500px;overflow:auto;\">\n",
        "<table border=\"1\" class=\"dataframe\">\n",
        "  <thead>\n",
        "    <tr style=\"text-align: right;\">\n",
        "      <th></th>\n",
        "      <th>a</th>\n",
        "      <th>b</th>\n",
        "      <th>c</th>\n",
        "      <th>e</th>\n",
        "    </tr>\n",
        "  </thead>\n",
        "  <tbody>\n",
        "    <tr>\n",
        "      <th>0</th>\n",
        "      <td> 0.345824</td>\n",
        "      <td> 1.702987</td>\n",
        "      <td> bar</td>\n",
        "      <td> 1.345824</td>\n",
        "    </tr>\n",
        "    <tr>\n",
        "      <th>1</th>\n",
        "      <td> 1.838604</td>\n",
        "      <td>-0.608842</td>\n",
        "      <td> bar</td>\n",
        "      <td> 2.838604</td>\n",
        "    </tr>\n",
        "    <tr>\n",
        "      <th>2</th>\n",
        "      <td>-0.015817</td>\n",
        "      <td>-1.232908</td>\n",
        "      <td> foo</td>\n",
        "      <td> 0.984183</td>\n",
        "    </tr>\n",
        "    <tr>\n",
        "      <th>3</th>\n",
        "      <td>-1.559076</td>\n",
        "      <td>-0.092537</td>\n",
        "      <td> bar</td>\n",
        "      <td>-0.559076</td>\n",
        "    </tr>\n",
        "    <tr>\n",
        "      <th>4</th>\n",
        "      <td> 0.324035</td>\n",
        "      <td>-0.399839</td>\n",
        "      <td> foo</td>\n",
        "      <td> 1.324035</td>\n",
        "    </tr>\n",
        "    <tr>\n",
        "      <th>5</th>\n",
        "      <td> 0.562289</td>\n",
        "      <td>-1.939317</td>\n",
        "      <td> foo</td>\n",
        "      <td> 1.562289</td>\n",
        "    </tr>\n",
        "    <tr>\n",
        "      <th>6</th>\n",
        "      <td>-0.694061</td>\n",
        "      <td>-0.492958</td>\n",
        "      <td> bar</td>\n",
        "      <td> 0.305939</td>\n",
        "    </tr>\n",
        "    <tr>\n",
        "      <th>7</th>\n",
        "      <td> 0.864651</td>\n",
        "      <td>-0.115454</td>\n",
        "      <td> foo</td>\n",
        "      <td> 1.864651</td>\n",
        "    </tr>\n",
        "    <tr>\n",
        "      <th>8</th>\n",
        "      <td>-1.657377</td>\n",
        "      <td>-0.640652</td>\n",
        "      <td> bar</td>\n",
        "      <td>-0.657377</td>\n",
        "    </tr>\n",
        "    <tr>\n",
        "      <th>9</th>\n",
        "      <td>-0.447667</td>\n",
        "      <td> 0.036785</td>\n",
        "      <td> foo</td>\n",
        "      <td> 0.552333</td>\n",
        "    </tr>\n",
        "  </tbody>\n",
        "</table>\n",
        "</div>"
       ],
       "metadata": {},
       "output_type": "pyout",
       "prompt_number": 21,
       "text": [
        "          a         b    c         e\n",
        "0  0.345824  1.702987  bar  1.345824\n",
        "1  1.838604 -0.608842  bar  2.838604\n",
        "2 -0.015817 -1.232908  foo  0.984183\n",
        "3 -1.559076 -0.092537  bar -0.559076\n",
        "4  0.324035 -0.399839  foo  1.324035\n",
        "5  0.562289 -1.939317  foo  1.562289\n",
        "6 -0.694061 -0.492958  bar  0.305939\n",
        "7  0.864651 -0.115454  foo  1.864651\n",
        "8 -1.657377 -0.640652  bar -0.657377\n",
        "9 -0.447667  0.036785  foo  0.552333"
       ]
      }
     ],
     "prompt_number": 21
    },
    {
     "cell_type": "code",
     "collapsed": false,
     "input": [
      "df[df.a < 0]"
     ],
     "language": "python",
     "metadata": {},
     "outputs": [
      {
       "html": [
        "<div style=\"max-height:1000px;max-width:1500px;overflow:auto;\">\n",
        "<table border=\"1\" class=\"dataframe\">\n",
        "  <thead>\n",
        "    <tr style=\"text-align: right;\">\n",
        "      <th></th>\n",
        "      <th>a</th>\n",
        "      <th>b</th>\n",
        "      <th>c</th>\n",
        "      <th>e</th>\n",
        "    </tr>\n",
        "  </thead>\n",
        "  <tbody>\n",
        "    <tr>\n",
        "      <th>2</th>\n",
        "      <td>-0.015817</td>\n",
        "      <td>-1.232908</td>\n",
        "      <td> foo</td>\n",
        "      <td> 0.984183</td>\n",
        "    </tr>\n",
        "    <tr>\n",
        "      <th>3</th>\n",
        "      <td>-1.559076</td>\n",
        "      <td>-0.092537</td>\n",
        "      <td> bar</td>\n",
        "      <td>-0.559076</td>\n",
        "    </tr>\n",
        "    <tr>\n",
        "      <th>6</th>\n",
        "      <td>-0.694061</td>\n",
        "      <td>-0.492958</td>\n",
        "      <td> bar</td>\n",
        "      <td> 0.305939</td>\n",
        "    </tr>\n",
        "    <tr>\n",
        "      <th>8</th>\n",
        "      <td>-1.657377</td>\n",
        "      <td>-0.640652</td>\n",
        "      <td> bar</td>\n",
        "      <td>-0.657377</td>\n",
        "    </tr>\n",
        "    <tr>\n",
        "      <th>9</th>\n",
        "      <td>-0.447667</td>\n",
        "      <td> 0.036785</td>\n",
        "      <td> foo</td>\n",
        "      <td> 0.552333</td>\n",
        "    </tr>\n",
        "  </tbody>\n",
        "</table>\n",
        "</div>"
       ],
       "metadata": {},
       "output_type": "pyout",
       "prompt_number": 23,
       "text": [
        "          a         b    c         e\n",
        "2 -0.015817 -1.232908  foo  0.984183\n",
        "3 -1.559076 -0.092537  bar -0.559076\n",
        "6 -0.694061 -0.492958  bar  0.305939\n",
        "8 -1.657377 -0.640652  bar -0.657377\n",
        "9 -0.447667  0.036785  foo  0.552333"
       ]
      }
     ],
     "prompt_number": 23
    },
    {
     "cell_type": "code",
     "collapsed": false,
     "input": [
      "df[ (df.a < 0) & (df.b < 0) ] "
     ],
     "language": "python",
     "metadata": {},
     "outputs": [
      {
       "html": [
        "<div style=\"max-height:1000px;max-width:1500px;overflow:auto;\">\n",
        "<table border=\"1\" class=\"dataframe\">\n",
        "  <thead>\n",
        "    <tr style=\"text-align: right;\">\n",
        "      <th></th>\n",
        "      <th>a</th>\n",
        "      <th>b</th>\n",
        "      <th>c</th>\n",
        "      <th>e</th>\n",
        "    </tr>\n",
        "  </thead>\n",
        "  <tbody>\n",
        "    <tr>\n",
        "      <th>2</th>\n",
        "      <td>-0.015817</td>\n",
        "      <td>-1.232908</td>\n",
        "      <td> foo</td>\n",
        "      <td> 0.984183</td>\n",
        "    </tr>\n",
        "    <tr>\n",
        "      <th>3</th>\n",
        "      <td>-1.559076</td>\n",
        "      <td>-0.092537</td>\n",
        "      <td> bar</td>\n",
        "      <td>-0.559076</td>\n",
        "    </tr>\n",
        "    <tr>\n",
        "      <th>6</th>\n",
        "      <td>-0.694061</td>\n",
        "      <td>-0.492958</td>\n",
        "      <td> bar</td>\n",
        "      <td> 0.305939</td>\n",
        "    </tr>\n",
        "    <tr>\n",
        "      <th>8</th>\n",
        "      <td>-1.657377</td>\n",
        "      <td>-0.640652</td>\n",
        "      <td> bar</td>\n",
        "      <td>-0.657377</td>\n",
        "    </tr>\n",
        "  </tbody>\n",
        "</table>\n",
        "</div>"
       ],
       "metadata": {},
       "output_type": "pyout",
       "prompt_number": 24,
       "text": [
        "          a         b    c         e\n",
        "2 -0.015817 -1.232908  foo  0.984183\n",
        "3 -1.559076 -0.092537  bar -0.559076\n",
        "6 -0.694061 -0.492958  bar  0.305939\n",
        "8 -1.657377 -0.640652  bar -0.657377"
       ]
      }
     ],
     "prompt_number": 24
    },
    {
     "cell_type": "code",
     "collapsed": false,
     "input": [
      "df[ (df.a < 0) & (df.b < 0) ].c"
     ],
     "language": "python",
     "metadata": {},
     "outputs": [
      {
       "metadata": {},
       "output_type": "pyout",
       "prompt_number": 25,
       "text": [
        "2    foo\n",
        "3    bar\n",
        "6    bar\n",
        "8    bar\n",
        "Name: c, dtype: object"
       ]
      }
     ],
     "prompt_number": 25
    },
    {
     "cell_type": "code",
     "collapsed": false,
     "input": [
      "df.head(1)"
     ],
     "language": "python",
     "metadata": {},
     "outputs": [
      {
       "html": [
        "<div style=\"max-height:1000px;max-width:1500px;overflow:auto;\">\n",
        "<table border=\"1\" class=\"dataframe\">\n",
        "  <thead>\n",
        "    <tr style=\"text-align: right;\">\n",
        "      <th></th>\n",
        "      <th>a</th>\n",
        "      <th>b</th>\n",
        "      <th>c</th>\n",
        "      <th>e</th>\n",
        "    </tr>\n",
        "  </thead>\n",
        "  <tbody>\n",
        "    <tr>\n",
        "      <th>0</th>\n",
        "      <td> 0.345824</td>\n",
        "      <td> 1.702987</td>\n",
        "      <td> bar</td>\n",
        "      <td> 1.345824</td>\n",
        "    </tr>\n",
        "  </tbody>\n",
        "</table>\n",
        "</div>"
       ],
       "metadata": {},
       "output_type": "pyout",
       "prompt_number": 26,
       "text": [
        "          a         b    c         e\n",
        "0  0.345824  1.702987  bar  1.345824"
       ]
      }
     ],
     "prompt_number": 26
    },
    {
     "cell_type": "code",
     "collapsed": false,
     "input": [
      "df.tail(1)"
     ],
     "language": "python",
     "metadata": {},
     "outputs": [
      {
       "html": [
        "<div style=\"max-height:1000px;max-width:1500px;overflow:auto;\">\n",
        "<table border=\"1\" class=\"dataframe\">\n",
        "  <thead>\n",
        "    <tr style=\"text-align: right;\">\n",
        "      <th></th>\n",
        "      <th>a</th>\n",
        "      <th>b</th>\n",
        "      <th>c</th>\n",
        "      <th>e</th>\n",
        "    </tr>\n",
        "  </thead>\n",
        "  <tbody>\n",
        "    <tr>\n",
        "      <th>9</th>\n",
        "      <td>-0.447667</td>\n",
        "      <td> 0.036785</td>\n",
        "      <td> foo</td>\n",
        "      <td> 0.552333</td>\n",
        "    </tr>\n",
        "  </tbody>\n",
        "</table>\n",
        "</div>"
       ],
       "metadata": {},
       "output_type": "pyout",
       "prompt_number": 28,
       "text": [
        "          a         b    c         e\n",
        "9 -0.447667  0.036785  foo  0.552333"
       ]
      }
     ],
     "prompt_number": 28
    },
    {
     "cell_type": "code",
     "collapsed": false,
     "input": [
      "df.shape"
     ],
     "language": "python",
     "metadata": {},
     "outputs": [
      {
       "metadata": {},
       "output_type": "pyout",
       "prompt_number": 30,
       "text": [
        "(10, 4)"
       ]
      }
     ],
     "prompt_number": 30
    },
    {
     "cell_type": "code",
     "collapsed": false,
     "input": [
      "df.describe()"
     ],
     "language": "python",
     "metadata": {},
     "outputs": [
      {
       "html": [
        "<div style=\"max-height:1000px;max-width:1500px;overflow:auto;\">\n",
        "<table border=\"1\" class=\"dataframe\">\n",
        "  <thead>\n",
        "    <tr style=\"text-align: right;\">\n",
        "      <th></th>\n",
        "      <th>a</th>\n",
        "      <th>b</th>\n",
        "      <th>e</th>\n",
        "    </tr>\n",
        "  </thead>\n",
        "  <tbody>\n",
        "    <tr>\n",
        "      <th>count</th>\n",
        "      <td> 10.000000</td>\n",
        "      <td> 10.000000</td>\n",
        "      <td> 10.000000</td>\n",
        "    </tr>\n",
        "    <tr>\n",
        "      <th>mean</th>\n",
        "      <td> -0.043859</td>\n",
        "      <td> -0.378273</td>\n",
        "      <td>  0.956141</td>\n",
        "    </tr>\n",
        "    <tr>\n",
        "      <th>std</th>\n",
        "      <td>  1.080617</td>\n",
        "      <td>  0.940302</td>\n",
        "      <td>  1.080617</td>\n",
        "    </tr>\n",
        "    <tr>\n",
        "      <th>min</th>\n",
        "      <td> -1.657377</td>\n",
        "      <td> -1.939317</td>\n",
        "      <td> -0.657377</td>\n",
        "    </tr>\n",
        "    <tr>\n",
        "      <th>25%</th>\n",
        "      <td> -0.632462</td>\n",
        "      <td> -0.632699</td>\n",
        "      <td>  0.367538</td>\n",
        "    </tr>\n",
        "    <tr>\n",
        "      <th>50%</th>\n",
        "      <td>  0.154109</td>\n",
        "      <td> -0.446398</td>\n",
        "      <td>  1.154109</td>\n",
        "    </tr>\n",
        "    <tr>\n",
        "      <th>75%</th>\n",
        "      <td>  0.508173</td>\n",
        "      <td> -0.098266</td>\n",
        "      <td>  1.508173</td>\n",
        "    </tr>\n",
        "    <tr>\n",
        "      <th>max</th>\n",
        "      <td>  1.838604</td>\n",
        "      <td>  1.702987</td>\n",
        "      <td>  2.838604</td>\n",
        "    </tr>\n",
        "  </tbody>\n",
        "</table>\n",
        "</div>"
       ],
       "metadata": {},
       "output_type": "pyout",
       "prompt_number": 32,
       "text": [
        "               a          b          e\n",
        "count  10.000000  10.000000  10.000000\n",
        "mean   -0.043859  -0.378273   0.956141\n",
        "std     1.080617   0.940302   1.080617\n",
        "min    -1.657377  -1.939317  -0.657377\n",
        "25%    -0.632462  -0.632699   0.367538\n",
        "50%     0.154109  -0.446398   1.154109\n",
        "75%     0.508173  -0.098266   1.508173\n",
        "max     1.838604   1.702987   2.838604"
       ]
      }
     ],
     "prompt_number": 32
    },
    {
     "cell_type": "code",
     "collapsed": false,
     "input": [
      "df.mean(axis=0)"
     ],
     "language": "python",
     "metadata": {},
     "outputs": [
      {
       "metadata": {},
       "output_type": "pyout",
       "prompt_number": 33,
       "text": [
        "a   -0.043859\n",
        "b   -0.378273\n",
        "e    0.956141\n",
        "dtype: float64"
       ]
      }
     ],
     "prompt_number": 33
    },
    {
     "cell_type": "code",
     "collapsed": false,
     "input": [
      "df.mean(axis=1)"
     ],
     "language": "python",
     "metadata": {},
     "outputs": [
      {
       "metadata": {},
       "output_type": "pyout",
       "prompt_number": 34,
       "text": [
        "0    1.131545\n",
        "1    1.356122\n",
        "2   -0.088181\n",
        "3   -0.736896\n",
        "4    0.416077\n",
        "5    0.061753\n",
        "6   -0.293693\n",
        "7    0.871283\n",
        "8   -0.985135\n",
        "9    0.047151\n",
        "dtype: float64"
       ]
      }
     ],
     "prompt_number": 34
    },
    {
     "cell_type": "markdown",
     "metadata": {},
     "source": [
      "# Split-Apply-Combine \n",
      "\n",
      "A moment of abstraction. \n",
      "\n",
      "Very often we will want to perform group operations on data. In the financial example we saw that we wanted to perform operations for every week or for every month. In another example we might want to apply methods per geolocation/type of person/per website... etc \n",
      "\n",
      "Whenever we are doing such an operation, we might look at it as a ```split-apply-combine``` operation, shown visually below:\n",
      "\n",
      "![](https://camo.githubusercontent.com/60a1e7e95eaef8f9a99f43335368915eafedda3e/687474703a2f2f7777772e686f66726f652e6e65742f737461743537392f736c696465732f73706c69742d6170706c792d636f6d62696e652e706e67)\n",
      "\n",
      "Pandas has great support for these kinds of operations. Based on the key of a dataframe we will split the data and then apply functions to the grouped data. \n",
      "\n",
      "# Enter ChickWeight \n",
      "\n",
      "For this next bit we will use the chickweight dataset. This dataset contains information about different diets for chickens. The goal of the dataset is to find out which diet will get the chickens as fat as possible. \n",
      "\n",
      "![](https://www.kenya-today.com/wp-content/uploads/2014/11/chicken.jpg)\n"
     ]
    },
    {
     "cell_type": "code",
     "collapsed": false,
     "input": [
      "chickdf = pd.read_csv('http://koaning.s3-website-us-west-2.amazonaws.com/data/pydata/chickweight.csv')\n",
      "chickdf.describe()"
     ],
     "language": "python",
     "metadata": {},
     "outputs": [
      {
       "html": [
        "<div style=\"max-height:1000px;max-width:1500px;overflow:auto;\">\n",
        "<table border=\"1\" class=\"dataframe\">\n",
        "  <thead>\n",
        "    <tr style=\"text-align: right;\">\n",
        "      <th></th>\n",
        "      <th>rownum</th>\n",
        "      <th>weight</th>\n",
        "      <th>Time</th>\n",
        "      <th>Chick</th>\n",
        "      <th>Diet</th>\n",
        "    </tr>\n",
        "  </thead>\n",
        "  <tbody>\n",
        "    <tr>\n",
        "      <th>count</th>\n",
        "      <td> 578.000000</td>\n",
        "      <td> 578.000000</td>\n",
        "      <td> 578.000000</td>\n",
        "      <td> 578.000000</td>\n",
        "      <td> 578.000000</td>\n",
        "    </tr>\n",
        "    <tr>\n",
        "      <th>mean</th>\n",
        "      <td> 289.500000</td>\n",
        "      <td> 121.818339</td>\n",
        "      <td>  10.717993</td>\n",
        "      <td>  25.750865</td>\n",
        "      <td>   2.235294</td>\n",
        "    </tr>\n",
        "    <tr>\n",
        "      <th>std</th>\n",
        "      <td> 166.998503</td>\n",
        "      <td>  71.071960</td>\n",
        "      <td>   6.758400</td>\n",
        "      <td>  14.568795</td>\n",
        "      <td>   1.162678</td>\n",
        "    </tr>\n",
        "    <tr>\n",
        "      <th>min</th>\n",
        "      <td>   1.000000</td>\n",
        "      <td>  35.000000</td>\n",
        "      <td>   0.000000</td>\n",
        "      <td>   1.000000</td>\n",
        "      <td>   1.000000</td>\n",
        "    </tr>\n",
        "    <tr>\n",
        "      <th>25%</th>\n",
        "      <td> 145.250000</td>\n",
        "      <td>  63.000000</td>\n",
        "      <td>   4.000000</td>\n",
        "      <td>  13.000000</td>\n",
        "      <td>   1.000000</td>\n",
        "    </tr>\n",
        "    <tr>\n",
        "      <th>50%</th>\n",
        "      <td> 289.500000</td>\n",
        "      <td> 103.000000</td>\n",
        "      <td>  10.000000</td>\n",
        "      <td>  26.000000</td>\n",
        "      <td>   2.000000</td>\n",
        "    </tr>\n",
        "    <tr>\n",
        "      <th>75%</th>\n",
        "      <td> 433.750000</td>\n",
        "      <td> 163.750000</td>\n",
        "      <td>  16.000000</td>\n",
        "      <td>  38.000000</td>\n",
        "      <td>   3.000000</td>\n",
        "    </tr>\n",
        "    <tr>\n",
        "      <th>max</th>\n",
        "      <td> 578.000000</td>\n",
        "      <td> 373.000000</td>\n",
        "      <td>  21.000000</td>\n",
        "      <td>  50.000000</td>\n",
        "      <td>   4.000000</td>\n",
        "    </tr>\n",
        "  </tbody>\n",
        "</table>\n",
        "</div>"
       ],
       "metadata": {},
       "output_type": "pyout",
       "prompt_number": 39,
       "text": [
        "           rownum      weight        Time       Chick        Diet\n",
        "count  578.000000  578.000000  578.000000  578.000000  578.000000\n",
        "mean   289.500000  121.818339   10.717993   25.750865    2.235294\n",
        "std    166.998503   71.071960    6.758400   14.568795    1.162678\n",
        "min      1.000000   35.000000    0.000000    1.000000    1.000000\n",
        "25%    145.250000   63.000000    4.000000   13.000000    1.000000\n",
        "50%    289.500000  103.000000   10.000000   26.000000    2.000000\n",
        "75%    433.750000  163.750000   16.000000   38.000000    3.000000\n",
        "max    578.000000  373.000000   21.000000   50.000000    4.000000"
       ]
      }
     ],
     "prompt_number": 39
    },
    {
     "cell_type": "code",
     "collapsed": false,
     "input": [
      "grouped = chickdf.groupby([\"Diet\"])\n",
      "\n",
      "for thing in grouped:\n",
      "    print(thing)"
     ],
     "language": "python",
     "metadata": {},
     "outputs": [
      {
       "output_type": "stream",
       "stream": "stdout",
       "text": [
        "(1,      rownum  weight  Time  Chick  Diet\n",
        "0         1      42     0      1     1\n",
        "1         2      51     2      1     1\n",
        "2         3      59     4      1     1\n",
        "3         4      64     6      1     1\n",
        "4         5      76     8      1     1\n",
        "5         6      93    10      1     1\n",
        "6         7     106    12      1     1\n",
        "7         8     125    14      1     1\n",
        "8         9     149    16      1     1\n",
        "9        10     171    18      1     1\n",
        "10       11     199    20      1     1\n",
        "11       12     205    21      1     1\n",
        "12       13      40     0      2     1\n",
        "13       14      49     2      2     1\n",
        "14       15      58     4      2     1\n",
        "15       16      72     6      2     1\n",
        "16       17      84     8      2     1\n",
        "17       18     103    10      2     1\n",
        "18       19     122    12      2     1\n",
        "19       20     138    14      2     1\n",
        "20       21     162    16      2     1\n",
        "21       22     187    18      2     1\n",
        "22       23     209    20      2     1\n",
        "23       24     215    21      2     1\n",
        "24       25      43     0      3     1\n",
        "25       26      39     2      3     1\n",
        "26       27      55     4      3     1\n",
        "27       28      67     6      3     1\n",
        "28       29      84     8      3     1\n",
        "29       30      99    10      3     1\n",
        "..      ...     ...   ...    ...   ...\n",
        "190     191     113    16     17     1\n",
        "191     192     123    18     17     1\n",
        "192     193     133    20     17     1\n",
        "193     194     142    21     17     1\n",
        "194     195      39     0     18     1\n",
        "195     196      35     2     18     1\n",
        "196     197      43     0     19     1\n",
        "197     198      48     2     19     1\n",
        "198     199      55     4     19     1\n",
        "199     200      62     6     19     1\n",
        "200     201      65     8     19     1\n",
        "201     202      71    10     19     1\n",
        "202     203      82    12     19     1\n",
        "203     204      88    14     19     1\n",
        "204     205     106    16     19     1\n",
        "205     206     120    18     19     1\n",
        "206     207     144    20     19     1\n",
        "207     208     157    21     19     1\n",
        "208     209      41     0     20     1\n",
        "209     210      47     2     20     1\n",
        "210     211      54     4     20     1\n",
        "211     212      58     6     20     1\n",
        "212     213      65     8     20     1\n",
        "213     214      73    10     20     1\n",
        "214     215      77    12     20     1\n",
        "215     216      89    14     20     1\n",
        "216     217      98    16     20     1\n",
        "217     218     107    18     20     1\n",
        "218     219     115    20     20     1\n",
        "219     220     117    21     20     1\n",
        "\n",
        "[220 rows x 5 columns])\n",
        "(2,      rownum  weight  Time  Chick  Diet\n",
        "220     221      40     0     21     2\n",
        "221     222      50     2     21     2\n",
        "222     223      62     4     21     2\n",
        "223     224      86     6     21     2\n",
        "224     225     125     8     21     2\n",
        "225     226     163    10     21     2\n",
        "226     227     217    12     21     2\n",
        "227     228     240    14     21     2\n",
        "228     229     275    16     21     2\n",
        "229     230     307    18     21     2\n",
        "230     231     318    20     21     2\n",
        "231     232     331    21     21     2\n",
        "232     233      41     0     22     2\n",
        "233     234      55     2     22     2\n",
        "234     235      64     4     22     2\n",
        "235     236      77     6     22     2\n",
        "236     237      90     8     22     2\n",
        "237     238      95    10     22     2\n",
        "238     239     108    12     22     2\n",
        "239     240     111    14     22     2\n",
        "240     241     131    16     22     2\n",
        "241     242     148    18     22     2\n",
        "242     243     164    20     22     2\n",
        "243     244     167    21     22     2\n",
        "244     245      43     0     23     2\n",
        "245     246      52     2     23     2\n",
        "246     247      61     4     23     2\n",
        "247     248      73     6     23     2\n",
        "248     249      90     8     23     2\n",
        "249     250     103    10     23     2\n",
        "..      ...     ...   ...    ...   ...\n",
        "310     311     145    12     28     2\n",
        "311     312     156    14     28     2\n",
        "312     313     184    16     28     2\n",
        "313     314     207    18     28     2\n",
        "314     315     212    20     28     2\n",
        "315     316     233    21     28     2\n",
        "316     317      39     0     29     2\n",
        "317     318      48     2     29     2\n",
        "318     319      59     4     29     2\n",
        "319     320      74     6     29     2\n",
        "320     321      87     8     29     2\n",
        "321     322     106    10     29     2\n",
        "322     323     134    12     29     2\n",
        "323     324     150    14     29     2\n",
        "324     325     187    16     29     2\n",
        "325     326     230    18     29     2\n",
        "326     327     279    20     29     2\n",
        "327     328     309    21     29     2\n",
        "328     329      42     0     30     2\n",
        "329     330      48     2     30     2\n",
        "330     331      59     4     30     2\n",
        "331     332      72     6     30     2\n",
        "332     333      85     8     30     2\n",
        "333     334      98    10     30     2\n",
        "334     335     115    12     30     2\n",
        "335     336     122    14     30     2\n",
        "336     337     143    16     30     2\n",
        "337     338     151    18     30     2\n",
        "338     339     157    20     30     2\n",
        "339     340     150    21     30     2\n",
        "\n",
        "[120 rows x 5 columns])\n",
        "(3,      rownum  weight  Time  Chick  Diet\n",
        "340     341      42     0     31     3\n",
        "341     342      53     2     31     3\n",
        "342     343      62     4     31     3\n",
        "343     344      73     6     31     3\n",
        "344     345      85     8     31     3\n",
        "345     346     102    10     31     3\n",
        "346     347     123    12     31     3\n",
        "347     348     138    14     31     3\n",
        "348     349     170    16     31     3\n",
        "349     350     204    18     31     3\n",
        "350     351     235    20     31     3\n",
        "351     352     256    21     31     3\n",
        "352     353      41     0     32     3\n",
        "353     354      49     2     32     3\n",
        "354     355      65     4     32     3\n",
        "355     356      82     6     32     3\n",
        "356     357     107     8     32     3\n",
        "357     358     129    10     32     3\n",
        "358     359     159    12     32     3\n",
        "359     360     179    14     32     3\n",
        "360     361     221    16     32     3\n",
        "361     362     263    18     32     3\n",
        "362     363     291    20     32     3\n",
        "363     364     305    21     32     3\n",
        "364     365      39     0     33     3\n",
        "365     366      50     2     33     3\n",
        "366     367      63     4     33     3\n",
        "367     368      77     6     33     3\n",
        "368     369      96     8     33     3\n",
        "369     370     111    10     33     3\n",
        "..      ...     ...   ...    ...   ...\n",
        "430     431     128    12     38     3\n",
        "431     432     154    14     38     3\n",
        "432     433     192    16     38     3\n",
        "433     434     232    18     38     3\n",
        "434     435     280    20     38     3\n",
        "435     436     290    21     38     3\n",
        "436     437      42     0     39     3\n",
        "437     438      50     2     39     3\n",
        "438     439      61     4     39     3\n",
        "439     440      78     6     39     3\n",
        "440     441      89     8     39     3\n",
        "441     442     109    10     39     3\n",
        "442     443     130    12     39     3\n",
        "443     444     146    14     39     3\n",
        "444     445     170    16     39     3\n",
        "445     446     214    18     39     3\n",
        "446     447     250    20     39     3\n",
        "447     448     272    21     39     3\n",
        "448     449      41     0     40     3\n",
        "449     450      55     2     40     3\n",
        "450     451      66     4     40     3\n",
        "451     452      79     6     40     3\n",
        "452     453     101     8     40     3\n",
        "453     454     120    10     40     3\n",
        "454     455     154    12     40     3\n",
        "455     456     182    14     40     3\n",
        "456     457     215    16     40     3\n",
        "457     458     262    18     40     3\n",
        "458     459     295    20     40     3\n",
        "459     460     321    21     40     3\n",
        "\n",
        "[120 rows x 5 columns])\n",
        "(4,      rownum  weight  Time  Chick  Diet\n",
        "460     461      42     0     41     4\n",
        "461     462      51     2     41     4\n",
        "462     463      66     4     41     4\n",
        "463     464      85     6     41     4\n",
        "464     465     103     8     41     4\n",
        "465     466     124    10     41     4\n",
        "466     467     155    12     41     4\n",
        "467     468     153    14     41     4\n",
        "468     469     175    16     41     4\n",
        "469     470     184    18     41     4\n",
        "470     471     199    20     41     4\n",
        "471     472     204    21     41     4\n",
        "472     473      42     0     42     4\n",
        "473     474      49     2     42     4\n",
        "474     475      63     4     42     4\n",
        "475     476      84     6     42     4\n",
        "476     477     103     8     42     4\n",
        "477     478     126    10     42     4\n",
        "478     479     160    12     42     4\n",
        "479     480     174    14     42     4\n",
        "480     481     204    16     42     4\n",
        "481     482     234    18     42     4\n",
        "482     483     269    20     42     4\n",
        "483     484     281    21     42     4\n",
        "484     485      42     0     43     4\n",
        "485     486      55     2     43     4\n",
        "486     487      69     4     43     4\n",
        "487     488      96     6     43     4\n",
        "488     489     131     8     43     4\n",
        "489     490     157    10     43     4\n",
        "..      ...     ...   ...    ...   ...\n",
        "548     549     154    12     48     4\n",
        "549     550     170    14     48     4\n",
        "550     551     222    16     48     4\n",
        "551     552     261    18     48     4\n",
        "552     553     303    20     48     4\n",
        "553     554     322    21     48     4\n",
        "554     555      40     0     49     4\n",
        "555     556      53     2     49     4\n",
        "556     557      64     4     49     4\n",
        "557     558      85     6     49     4\n",
        "558     559     108     8     49     4\n",
        "559     560     128    10     49     4\n",
        "560     561     152    12     49     4\n",
        "561     562     166    14     49     4\n",
        "562     563     184    16     49     4\n",
        "563     564     203    18     49     4\n",
        "564     565     233    20     49     4\n",
        "565     566     237    21     49     4\n",
        "566     567      41     0     50     4\n",
        "567     568      54     2     50     4\n",
        "568     569      67     4     50     4\n",
        "569     570      84     6     50     4\n",
        "570     571     105     8     50     4\n",
        "571     572     122    10     50     4\n",
        "572     573     155    12     50     4\n",
        "573     574     175    14     50     4\n",
        "574     575     205    16     50     4\n",
        "575     576     234    18     50     4\n",
        "576     577     264    20     50     4\n",
        "577     578     264    21     50     4\n",
        "\n",
        "[118 rows x 5 columns])\n"
       ]
      }
     ],
     "prompt_number": 43
    },
    {
     "cell_type": "code",
     "collapsed": false,
     "input": [
      "grouped.describe()"
     ],
     "language": "python",
     "metadata": {},
     "outputs": [
      {
       "html": [
        "<div style=\"max-height:1000px;max-width:1500px;overflow:auto;\">\n",
        "<table border=\"1\" class=\"dataframe\">\n",
        "  <thead>\n",
        "    <tr style=\"text-align: right;\">\n",
        "      <th></th>\n",
        "      <th></th>\n",
        "      <th>Chick</th>\n",
        "      <th>Time</th>\n",
        "      <th>rownum</th>\n",
        "      <th>weight</th>\n",
        "    </tr>\n",
        "    <tr>\n",
        "      <th>Diet</th>\n",
        "      <th></th>\n",
        "      <th></th>\n",
        "      <th></th>\n",
        "      <th></th>\n",
        "      <th></th>\n",
        "    </tr>\n",
        "  </thead>\n",
        "  <tbody>\n",
        "    <tr>\n",
        "      <th rowspan=\"8\" valign=\"top\">1</th>\n",
        "      <th>count</th>\n",
        "      <td> 220.000000</td>\n",
        "      <td> 220.000000</td>\n",
        "      <td> 220.000000</td>\n",
        "      <td> 220.000000</td>\n",
        "    </tr>\n",
        "    <tr>\n",
        "      <th>mean</th>\n",
        "      <td>   9.963636</td>\n",
        "      <td>  10.481818</td>\n",
        "      <td> 110.500000</td>\n",
        "      <td> 102.645455</td>\n",
        "    </tr>\n",
        "    <tr>\n",
        "      <th>std</th>\n",
        "      <td>   5.700160</td>\n",
        "      <td>   6.754984</td>\n",
        "      <td>  63.652704</td>\n",
        "      <td>  56.656553</td>\n",
        "    </tr>\n",
        "    <tr>\n",
        "      <th>min</th>\n",
        "      <td>   1.000000</td>\n",
        "      <td>   0.000000</td>\n",
        "      <td>   1.000000</td>\n",
        "      <td>  35.000000</td>\n",
        "    </tr>\n",
        "    <tr>\n",
        "      <th>25%</th>\n",
        "      <td>   5.000000</td>\n",
        "      <td>   4.000000</td>\n",
        "      <td>  55.750000</td>\n",
        "      <td>  57.750000</td>\n",
        "    </tr>\n",
        "    <tr>\n",
        "      <th>50%</th>\n",
        "      <td>  10.000000</td>\n",
        "      <td>  10.000000</td>\n",
        "      <td> 110.500000</td>\n",
        "      <td>  88.000000</td>\n",
        "    </tr>\n",
        "    <tr>\n",
        "      <th>75%</th>\n",
        "      <td>  14.000000</td>\n",
        "      <td>  16.000000</td>\n",
        "      <td> 165.250000</td>\n",
        "      <td> 136.500000</td>\n",
        "    </tr>\n",
        "    <tr>\n",
        "      <th>max</th>\n",
        "      <td>  20.000000</td>\n",
        "      <td>  21.000000</td>\n",
        "      <td> 220.000000</td>\n",
        "      <td> 305.000000</td>\n",
        "    </tr>\n",
        "    <tr>\n",
        "      <th rowspan=\"8\" valign=\"top\">2</th>\n",
        "      <th>count</th>\n",
        "      <td> 120.000000</td>\n",
        "      <td> 120.000000</td>\n",
        "      <td> 120.000000</td>\n",
        "      <td> 120.000000</td>\n",
        "    </tr>\n",
        "    <tr>\n",
        "      <th>mean</th>\n",
        "      <td>  25.500000</td>\n",
        "      <td>  10.916667</td>\n",
        "      <td> 280.500000</td>\n",
        "      <td> 122.616667</td>\n",
        "    </tr>\n",
        "    <tr>\n",
        "      <th>std</th>\n",
        "      <td>   2.884324</td>\n",
        "      <td>   6.804081</td>\n",
        "      <td>  34.785054</td>\n",
        "      <td>  71.607495</td>\n",
        "    </tr>\n",
        "    <tr>\n",
        "      <th>min</th>\n",
        "      <td>  21.000000</td>\n",
        "      <td>   0.000000</td>\n",
        "      <td> 221.000000</td>\n",
        "      <td>  39.000000</td>\n",
        "    </tr>\n",
        "    <tr>\n",
        "      <th>25%</th>\n",
        "      <td>  23.000000</td>\n",
        "      <td>   5.500000</td>\n",
        "      <td> 250.750000</td>\n",
        "      <td>  65.500000</td>\n",
        "    </tr>\n",
        "    <tr>\n",
        "      <th>50%</th>\n",
        "      <td>  25.500000</td>\n",
        "      <td>  11.000000</td>\n",
        "      <td> 280.500000</td>\n",
        "      <td> 104.500000</td>\n",
        "    </tr>\n",
        "    <tr>\n",
        "      <th>75%</th>\n",
        "      <td>  28.000000</td>\n",
        "      <td>  16.500000</td>\n",
        "      <td> 310.250000</td>\n",
        "      <td> 163.000000</td>\n",
        "    </tr>\n",
        "    <tr>\n",
        "      <th>max</th>\n",
        "      <td>  30.000000</td>\n",
        "      <td>  21.000000</td>\n",
        "      <td> 340.000000</td>\n",
        "      <td> 331.000000</td>\n",
        "    </tr>\n",
        "    <tr>\n",
        "      <th rowspan=\"8\" valign=\"top\">3</th>\n",
        "      <th>count</th>\n",
        "      <td> 120.000000</td>\n",
        "      <td> 120.000000</td>\n",
        "      <td> 120.000000</td>\n",
        "      <td> 120.000000</td>\n",
        "    </tr>\n",
        "    <tr>\n",
        "      <th>mean</th>\n",
        "      <td>  35.500000</td>\n",
        "      <td>  10.916667</td>\n",
        "      <td> 400.500000</td>\n",
        "      <td> 142.950000</td>\n",
        "    </tr>\n",
        "    <tr>\n",
        "      <th>std</th>\n",
        "      <td>   2.884324</td>\n",
        "      <td>   6.804081</td>\n",
        "      <td>  34.785054</td>\n",
        "      <td>  86.541761</td>\n",
        "    </tr>\n",
        "    <tr>\n",
        "      <th>min</th>\n",
        "      <td>  31.000000</td>\n",
        "      <td>   0.000000</td>\n",
        "      <td> 341.000000</td>\n",
        "      <td>  39.000000</td>\n",
        "    </tr>\n",
        "    <tr>\n",
        "      <th>25%</th>\n",
        "      <td>  33.000000</td>\n",
        "      <td>   5.500000</td>\n",
        "      <td> 370.750000</td>\n",
        "      <td>  67.500000</td>\n",
        "    </tr>\n",
        "    <tr>\n",
        "      <th>50%</th>\n",
        "      <td>  35.500000</td>\n",
        "      <td>  11.000000</td>\n",
        "      <td> 400.500000</td>\n",
        "      <td> 125.500000</td>\n",
        "    </tr>\n",
        "    <tr>\n",
        "      <th>75%</th>\n",
        "      <td>  38.000000</td>\n",
        "      <td>  16.500000</td>\n",
        "      <td> 430.250000</td>\n",
        "      <td> 198.750000</td>\n",
        "    </tr>\n",
        "    <tr>\n",
        "      <th>max</th>\n",
        "      <td>  40.000000</td>\n",
        "      <td>  21.000000</td>\n",
        "      <td> 460.000000</td>\n",
        "      <td> 373.000000</td>\n",
        "    </tr>\n",
        "    <tr>\n",
        "      <th rowspan=\"8\" valign=\"top\">4</th>\n",
        "      <th>count</th>\n",
        "      <td> 118.000000</td>\n",
        "      <td> 118.000000</td>\n",
        "      <td> 118.000000</td>\n",
        "      <td> 118.000000</td>\n",
        "    </tr>\n",
        "    <tr>\n",
        "      <th>mean</th>\n",
        "      <td>  45.525424</td>\n",
        "      <td>  10.754237</td>\n",
        "      <td> 519.500000</td>\n",
        "      <td> 135.262712</td>\n",
        "    </tr>\n",
        "    <tr>\n",
        "      <th>std</th>\n",
        "      <td>   2.902141</td>\n",
        "      <td>   6.744338</td>\n",
        "      <td>  34.207699</td>\n",
        "      <td>  68.828714</td>\n",
        "    </tr>\n",
        "    <tr>\n",
        "      <th>min</th>\n",
        "      <td>  41.000000</td>\n",
        "      <td>   0.000000</td>\n",
        "      <td> 461.000000</td>\n",
        "      <td>  39.000000</td>\n",
        "    </tr>\n",
        "    <tr>\n",
        "      <th>25%</th>\n",
        "      <td>  43.000000</td>\n",
        "      <td>   4.500000</td>\n",
        "      <td> 490.250000</td>\n",
        "      <td>  71.250000</td>\n",
        "    </tr>\n",
        "    <tr>\n",
        "      <th>50%</th>\n",
        "      <td>  46.000000</td>\n",
        "      <td>  10.000000</td>\n",
        "      <td> 519.500000</td>\n",
        "      <td> 129.500000</td>\n",
        "    </tr>\n",
        "    <tr>\n",
        "      <th>75%</th>\n",
        "      <td>  48.000000</td>\n",
        "      <td>  16.000000</td>\n",
        "      <td> 548.750000</td>\n",
        "      <td> 184.750000</td>\n",
        "    </tr>\n",
        "    <tr>\n",
        "      <th>max</th>\n",
        "      <td>  50.000000</td>\n",
        "      <td>  21.000000</td>\n",
        "      <td> 578.000000</td>\n",
        "      <td> 322.000000</td>\n",
        "    </tr>\n",
        "  </tbody>\n",
        "</table>\n",
        "</div>"
       ],
       "metadata": {},
       "output_type": "pyout",
       "prompt_number": 45,
       "text": [
        "                 Chick        Time      rownum      weight\n",
        "Diet                                                      \n",
        "1    count  220.000000  220.000000  220.000000  220.000000\n",
        "     mean     9.963636   10.481818  110.500000  102.645455\n",
        "     std      5.700160    6.754984   63.652704   56.656553\n",
        "     min      1.000000    0.000000    1.000000   35.000000\n",
        "     25%      5.000000    4.000000   55.750000   57.750000\n",
        "     50%     10.000000   10.000000  110.500000   88.000000\n",
        "     75%     14.000000   16.000000  165.250000  136.500000\n",
        "     max     20.000000   21.000000  220.000000  305.000000\n",
        "2    count  120.000000  120.000000  120.000000  120.000000\n",
        "     mean    25.500000   10.916667  280.500000  122.616667\n",
        "     std      2.884324    6.804081   34.785054   71.607495\n",
        "     min     21.000000    0.000000  221.000000   39.000000\n",
        "     25%     23.000000    5.500000  250.750000   65.500000\n",
        "     50%     25.500000   11.000000  280.500000  104.500000\n",
        "     75%     28.000000   16.500000  310.250000  163.000000\n",
        "     max     30.000000   21.000000  340.000000  331.000000\n",
        "3    count  120.000000  120.000000  120.000000  120.000000\n",
        "     mean    35.500000   10.916667  400.500000  142.950000\n",
        "     std      2.884324    6.804081   34.785054   86.541761\n",
        "     min     31.000000    0.000000  341.000000   39.000000\n",
        "     25%     33.000000    5.500000  370.750000   67.500000\n",
        "     50%     35.500000   11.000000  400.500000  125.500000\n",
        "     75%     38.000000   16.500000  430.250000  198.750000\n",
        "     max     40.000000   21.000000  460.000000  373.000000\n",
        "4    count  118.000000  118.000000  118.000000  118.000000\n",
        "     mean    45.525424   10.754237  519.500000  135.262712\n",
        "     std      2.902141    6.744338   34.207699   68.828714\n",
        "     min     41.000000    0.000000  461.000000   39.000000\n",
        "     25%     43.000000    4.500000  490.250000   71.250000\n",
        "     50%     46.000000   10.000000  519.500000  129.500000\n",
        "     75%     48.000000   16.000000  548.750000  184.750000\n",
        "     max     50.000000   21.000000  578.000000  322.000000"
       ]
      }
     ],
     "prompt_number": 45
    },
    {
     "cell_type": "markdown",
     "metadata": {},
     "source": [
      "### Applying your own\n",
      "We can use built in functions on our grouped objects, but we can also just apply our own functions. \n",
      "\n",
      "Note that these functions need to be able to be applied to a DataFrame object, as long as the function does this, it will work."
     ]
    },
    {
     "cell_type": "code",
     "collapsed": false,
     "input": [
      "def show_size(x):\n",
      "    return \"Dude we have \" + str(len(x)) + \" chickens here!\" \n",
      "\n",
      "grouped.apply(show_size)"
     ],
     "language": "python",
     "metadata": {},
     "outputs": [
      {
       "metadata": {},
       "output_type": "pyout",
       "prompt_number": 46,
       "text": [
        "Diet\n",
        "1       Dude we have 220 chickens here!\n",
        "2       Dude we have 120 chickens here!\n",
        "3       Dude we have 120 chickens here!\n",
        "4       Dude we have 118 chickens here!\n",
        "dtype: object"
       ]
      }
     ],
     "prompt_number": 46
    },
    {
     "cell_type": "markdown",
     "metadata": {},
     "source": [
      "Realize that this means that **any** function can be used here. You will want to think about performance when dealing with large datasets. This functionality is one of the things that make the pandas API very powerful. \n",
      "\n",
      "### Advanced Groups \n",
      "We can also created groups based on two columns in the table. "
     ]
    },
    {
     "cell_type": "code",
     "collapsed": false,
     "input": [
      "chickdf.groupby(['Time']).weight.apply(show_size)"
     ],
     "language": "python",
     "metadata": {},
     "outputs": [
      {
       "metadata": {},
       "output_type": "pyout",
       "prompt_number": 48,
       "text": [
        "Time\n",
        "0       Dude we have 50 chickens here!\n",
        "2       Dude we have 50 chickens here!\n",
        "4       Dude we have 49 chickens here!\n",
        "6       Dude we have 49 chickens here!\n",
        "8       Dude we have 49 chickens here!\n",
        "10      Dude we have 49 chickens here!\n",
        "12      Dude we have 49 chickens here!\n",
        "14      Dude we have 48 chickens here!\n",
        "16      Dude we have 47 chickens here!\n",
        "18      Dude we have 47 chickens here!\n",
        "20      Dude we have 46 chickens here!\n",
        "21      Dude we have 45 chickens here!\n",
        "Name: weight, dtype: object"
       ]
      }
     ],
     "prompt_number": 48
    },
    {
     "cell_type": "markdown",
     "metadata": {},
     "source": [
      "Looks like some chickens 'disappeared' prematurely. "
     ]
    },
    {
     "cell_type": "markdown",
     "metadata": {},
     "source": [
      "### Pandas & visualisation"
     ]
    },
    {
     "cell_type": "code",
     "collapsed": false,
     "input": [
      "agg = chickdf.groupby(['Time',\"Diet\"]).weight.apply(np.mean)\n",
      "agg"
     ],
     "language": "python",
     "metadata": {},
     "outputs": [
      {
       "metadata": {},
       "output_type": "pyout",
       "prompt_number": 68,
       "text": [
        "Time  Diet\n",
        "0     1        41.400000\n",
        "      2        40.700000\n",
        "      3        40.800000\n",
        "      4        41.000000\n",
        "2     1        47.250000\n",
        "      2        49.400000\n",
        "      3        50.400000\n",
        "      4        51.800000\n",
        "4     1        56.473684\n",
        "      2        59.800000\n",
        "      3        62.200000\n",
        "      4        64.500000\n",
        "6     1        66.789474\n",
        "      2        75.400000\n",
        "      3        77.900000\n",
        "      4        83.900000\n",
        "8     1        79.684211\n",
        "      2        91.700000\n",
        "      3        98.400000\n",
        "      4       105.600000\n",
        "10    1        93.052632\n",
        "      2       108.500000\n",
        "      3       117.100000\n",
        "      4       126.000000\n",
        "12    1       108.526316\n",
        "      2       131.300000\n",
        "      3       144.400000\n",
        "      4       151.400000\n",
        "14    1       123.388889\n",
        "      2       141.900000\n",
        "      3       164.500000\n",
        "      4       161.800000\n",
        "16    1       144.647059\n",
        "      2       164.700000\n",
        "      3       197.400000\n",
        "      4       182.000000\n",
        "18    1       158.941176\n",
        "      2       187.700000\n",
        "      3       233.100000\n",
        "      4       202.900000\n",
        "20    1       170.411765\n",
        "      2       205.600000\n",
        "      3       258.900000\n",
        "      4       233.888889\n",
        "21    1       177.750000\n",
        "      2       214.700000\n",
        "      3       270.300000\n",
        "      4       238.555556\n",
        "Name: weight, dtype: float64"
       ]
      }
     ],
     "prompt_number": 68
    },
    {
     "cell_type": "markdown",
     "metadata": {},
     "source": [
      "Notice that we can unstack this dataframe to plot it easily. Also notice the pattern. "
     ]
    },
    {
     "cell_type": "code",
     "collapsed": false,
     "input": [
      "agg.unstack().plot()"
     ],
     "language": "python",
     "metadata": {},
     "outputs": [
      {
       "ename": "NameError",
       "evalue": "name 'agg' is not defined",
       "output_type": "pyerr",
       "traceback": [
        "\u001b[0;31m---------------------------------------------------------------------------\u001b[0m\n\u001b[0;31mNameError\u001b[0m                                 Traceback (most recent call last)",
        "\u001b[0;32m<ipython-input-1-cc942b430926>\u001b[0m in \u001b[0;36m<module>\u001b[0;34m()\u001b[0m\n\u001b[0;32m----> 1\u001b[0;31m \u001b[0magg\u001b[0m\u001b[0;34m.\u001b[0m\u001b[0munstack\u001b[0m\u001b[0;34m(\u001b[0m\u001b[0;34m)\u001b[0m\u001b[0;34m.\u001b[0m\u001b[0mplot\u001b[0m\u001b[0;34m(\u001b[0m\u001b[0;34m)\u001b[0m\u001b[0;34m\u001b[0m\u001b[0m\n\u001b[0m",
        "\u001b[0;31mNameError\u001b[0m: name 'agg' is not defined"
       ]
      }
     ],
     "prompt_number": 1
    },
    {
     "cell_type": "markdown",
     "metadata": {},
     "source": [
      "## Hacking Bit! \n",
      "\n",
      "In this last part of the session we will play around with a dataset. "
     ]
    },
    {
     "cell_type": "code",
     "collapsed": false,
     "input": [
      "df = pd.read_csv(\"http://koaning.github.io/data/open_python/ns-storingen.csv\")"
     ],
     "language": "python",
     "metadata": {},
     "outputs": [],
     "prompt_number": 28
    },
    {
     "cell_type": "code",
     "collapsed": false,
     "input": [
      "df['start'] = pd.to_datetime(df.startdate + ' ' + df.starttime)\n",
      "df['end'] = pd.to_datetime(df.enddate + ' ' + df.endtime)\n",
      "df['date'] = pd.to_datetime(df.startdate)\n",
      "df['n'] = 1"
     ],
     "language": "python",
     "metadata": {},
     "outputs": [],
     "prompt_number": 29
    },
    {
     "cell_type": "code",
     "collapsed": false,
     "input": [
      "df.head(5)"
     ],
     "language": "python",
     "metadata": {},
     "outputs": [
      {
       "html": [
        "<div style=\"max-height:1000px;max-width:1500px;overflow:auto;\">\n",
        "<table border=\"1\" class=\"dataframe\">\n",
        "  <thead>\n",
        "    <tr style=\"text-align: right;\">\n",
        "      <th></th>\n",
        "      <th>Unnamed: 0</th>\n",
        "      <th>enddate</th>\n",
        "      <th>endtime</th>\n",
        "      <th>reason</th>\n",
        "      <th>startdate</th>\n",
        "      <th>starttime</th>\n",
        "      <th>where</th>\n",
        "      <th>start</th>\n",
        "      <th>end</th>\n",
        "      <th>date</th>\n",
        "      <th>n</th>\n",
        "    </tr>\n",
        "  </thead>\n",
        "  <tbody>\n",
        "    <tr>\n",
        "      <th>0</th>\n",
        "      <td> 0</td>\n",
        "      <td> 2015-02-03</td>\n",
        "      <td> 07:34:01</td>\n",
        "      <td>      defecte trein</td>\n",
        "      <td> 2015-02-03</td>\n",
        "      <td> 06:31:07</td>\n",
        "      <td>                                 Zwolle-Amersfoort</td>\n",
        "      <td>2015-02-03 06:31:07</td>\n",
        "      <td>2015-02-03 07:34:01</td>\n",
        "      <td>2015-02-03</td>\n",
        "      <td> 1</td>\n",
        "    </tr>\n",
        "    <tr>\n",
        "      <th>1</th>\n",
        "      <td> 1</td>\n",
        "      <td> 2015-02-03</td>\n",
        "      <td> 02:32:01</td>\n",
        "      <td>           onbekend</td>\n",
        "      <td> 2015-02-03</td>\n",
        "      <td> 01:21:02</td>\n",
        "      <td>                  Utrecht C.-Amsterdam C./Schiphol</td>\n",
        "      <td>2015-02-03 01:21:02</td>\n",
        "      <td>2015-02-03 02:32:01</td>\n",
        "      <td>2015-02-03</td>\n",
        "      <td> 1</td>\n",
        "    </tr>\n",
        "    <tr>\n",
        "      <th>2</th>\n",
        "      <td> 2</td>\n",
        "      <td> 2015-02-03</td>\n",
        "      <td> 01:05:01</td>\n",
        "      <td>       brandmelding</td>\n",
        "      <td> 2015-02-02</td>\n",
        "      <td> 23:33:02</td>\n",
        "      <td>                            Rotterdam C.-Dordrecht</td>\n",
        "      <td>2015-02-02 23:33:02</td>\n",
        "      <td>2015-02-03 01:05:01</td>\n",
        "      <td>2015-02-02</td>\n",
        "      <td> 1</td>\n",
        "    </tr>\n",
        "    <tr>\n",
        "      <th>3</th>\n",
        "      <td> 3</td>\n",
        "      <td> 2015-02-02</td>\n",
        "      <td> 18:34:03</td>\n",
        "      <td> eerdere verstoring</td>\n",
        "      <td> 2015-02-02</td>\n",
        "      <td> 18:27:02</td>\n",
        "      <td>                                        Utrecht C.</td>\n",
        "      <td>2015-02-02 18:27:02</td>\n",
        "      <td>2015-02-02 18:34:03</td>\n",
        "      <td>2015-02-02</td>\n",
        "      <td> 1</td>\n",
        "    </tr>\n",
        "    <tr>\n",
        "      <th>4</th>\n",
        "      <td> 4</td>\n",
        "      <td> 2015-02-02</td>\n",
        "      <td> 21:02:02</td>\n",
        "      <td> Eerdere verstoring</td>\n",
        "      <td> 2015-02-02</td>\n",
        "      <td> 18:16:02</td>\n",
        "      <td> Rondom Utrecht wegens een eerdere verstoring t...</td>\n",
        "      <td>2015-02-02 18:16:02</td>\n",
        "      <td>2015-02-02 21:02:02</td>\n",
        "      <td>2015-02-02</td>\n",
        "      <td> 1</td>\n",
        "    </tr>\n",
        "  </tbody>\n",
        "</table>\n",
        "</div>"
       ],
       "metadata": {},
       "output_type": "pyout",
       "prompt_number": 30,
       "text": [
        "   Unnamed: 0     enddate   endtime              reason   startdate starttime  \\\n",
        "0           0  2015-02-03  07:34:01       defecte trein  2015-02-03  06:31:07   \n",
        "1           1  2015-02-03  02:32:01            onbekend  2015-02-03  01:21:02   \n",
        "2           2  2015-02-03  01:05:01        brandmelding  2015-02-02  23:33:02   \n",
        "3           3  2015-02-02  18:34:03  eerdere verstoring  2015-02-02  18:27:02   \n",
        "4           4  2015-02-02  21:02:02  Eerdere verstoring  2015-02-02  18:16:02   \n",
        "\n",
        "                                               where               start  \\\n",
        "0                                  Zwolle-Amersfoort 2015-02-03 06:31:07   \n",
        "1                   Utrecht C.-Amsterdam C./Schiphol 2015-02-03 01:21:02   \n",
        "2                             Rotterdam C.-Dordrecht 2015-02-02 23:33:02   \n",
        "3                                         Utrecht C. 2015-02-02 18:27:02   \n",
        "4  Rondom Utrecht wegens een eerdere verstoring t... 2015-02-02 18:16:02   \n",
        "\n",
        "                  end       date  n  \n",
        "0 2015-02-03 07:34:01 2015-02-03  1  \n",
        "1 2015-02-03 02:32:01 2015-02-03  1  \n",
        "2 2015-02-03 01:05:01 2015-02-02  1  \n",
        "3 2015-02-02 18:34:03 2015-02-02  1  \n",
        "4 2015-02-02 21:02:02 2015-02-02  1  "
       ]
      }
     ],
     "prompt_number": 30
    },
    {
     "cell_type": "markdown",
     "metadata": {},
     "source": [
      "We now have a dataframe with all dutch train outages, with correct datetime types. Nice. Let's make some plots. Are the number of problems increasing?"
     ]
    },
    {
     "cell_type": "code",
     "collapsed": false,
     "input": [
      "agg = df.groupby([\"date\"]).where.count()\n",
      "pltr = pd.DataFrame({'date':agg.index, 'problems' : agg})\n",
      "pltr.plot(style=\"k\")"
     ],
     "language": "python",
     "metadata": {},
     "outputs": [
      {
       "metadata": {},
       "output_type": "pyout",
       "prompt_number": 31,
       "text": [
        "<matplotlib.axes._subplots.AxesSubplot at 0x10d53a320>"
       ]
      },
      {
       "metadata": {},
       "output_type": "display_data",
       "png": "[encoded data removed]",
       "text": [
        "<matplotlib.figure.Figure at 0x10c4957b8>"
       ]
      }
     ],
     "prompt_number": 31
    },
    {
     "cell_type": "markdown",
     "metadata": {},
     "source": [
      "Let's see if we can smooth that line a little."
     ]
    },
    {
     "cell_type": "code",
     "collapsed": false,
     "input": [
      "pd.rolling_mean(agg, 7).plot(style='k')"
     ],
     "language": "python",
     "metadata": {},
     "outputs": [
      {
       "metadata": {},
       "output_type": "pyout",
       "prompt_number": 32,
       "text": [
        "<matplotlib.axes._subplots.AxesSubplot at 0x10d331048>"
       ]
      },
      {
       "metadata": {},
       "output_type": "display_data",
       "png": "[encoded data removed]",
       "text": [
        "<matplotlib.figure.Figure at 0x10d537c18>"
       ]
      }
     ],
     "prompt_number": 32
    },
    {
     "cell_type": "code",
     "collapsed": false,
     "input": [
      "pd.rolling_mean(agg, 14).plot(style='k')"
     ],
     "language": "python",
     "metadata": {},
     "outputs": [
      {
       "metadata": {},
       "output_type": "pyout",
       "prompt_number": 33,
       "text": [
        "<matplotlib.axes._subplots.AxesSubplot at 0x10d88a550>"
       ]
      },
      {
       "metadata": {},
       "output_type": "display_data",
       "png": "[encoded data removed]",
       "text": [
        "<matplotlib.figure.Figure at 0x10d8a5588>"
       ]
      }
     ],
     "prompt_number": 33
    },
    {
     "cell_type": "code",
     "collapsed": false,
     "input": [
      "pd.rolling_mean(agg, 30).plot(style='k')"
     ],
     "language": "python",
     "metadata": {},
     "outputs": [
      {
       "metadata": {},
       "output_type": "pyout",
       "prompt_number": 34,
       "text": [
        "<matplotlib.axes._subplots.AxesSubplot at 0x10c13cc88>"
       ]
      },
      {
       "metadata": {},
       "output_type": "display_data",
       "png": "[encoded data removed]",
       "text": [
        "<matplotlib.figure.Figure at 0x10c1431d0>"
       ]
      }
     ],
     "prompt_number": 34
    },
    {
     "cell_type": "markdown",
     "metadata": {},
     "source": [
      "Sofar so good. It seems that there are more problems each year. Let's see if we can find out some statistics about the type of faults. Some errors can be blamed to the NS while others might be blamed to circumstance. Let's first group."
     ]
    },
    {
     "cell_type": "code",
     "collapsed": false,
     "input": [
      "df.groupby([\"reason\"]).count().sort(\"n\", ascending=False).n.head(20)"
     ],
     "language": "python",
     "metadata": {},
     "outputs": [
      {
       "metadata": {},
       "output_type": "pyout",
       "prompt_number": 35,
       "text": [
        "reason\n",
        "defecte trein                           1160\n",
        "wisselstoring                           1051\n",
        "seinstoring                              997\n",
        "aanrijding met een persoon               966\n",
        "sein- en overwegstoring                  352\n",
        "herstelwerkzaamheden                     321\n",
        "stroomstoring                            276\n",
        "sein- en wisselstoring                   266\n",
        "eerdere verstoring                       262\n",
        "beperkingen op last van de politie       199\n",
        "defecte bovenleiding                     196\n",
        "defecte spoorbrug                        184\n",
        "uitloop van werkzaamheden                184\n",
        "overwegstoring                           170\n",
        "aanrijding                               147\n",
        "beperkingen op last van de brandweer     129\n",
        "versperring                              118\n",
        "gestrande trein                          110\n",
        "beperkingen in de materieelinzet          92\n",
        "defect aan het spoor                      85\n",
        "Name: n, dtype: int64"
       ]
      }
     ],
     "prompt_number": 35
    },
    {
     "cell_type": "markdown",
     "metadata": {},
     "source": [
      "Now we can select types and plot those instead of all of them. I'll start with things that might be due to lack of expertise on the NS side. "
     ]
    },
    {
     "cell_type": "code",
     "collapsed": false,
     "input": [
      "reasons = [\"wisselstoring\",\"seinstoring\",\"defecte trein\", \\\n",
      "           \"defecte bovenleiding\",\"defecte spoorburg\"]\n",
      "subset = df[df['reason'].isin(reasons)]\n",
      "agg = subset.groupby([\"date\"]).where.count()\n",
      "pd.rolling_mean(agg, 14).plot(style='k')"
     ],
     "language": "python",
     "metadata": {},
     "outputs": [
      {
       "metadata": {},
       "output_type": "pyout",
       "prompt_number": 36,
       "text": [
        "<matplotlib.axes._subplots.AxesSubplot at 0x1065dfcf8>"
       ]
      },
      {
       "metadata": {},
       "output_type": "display_data",
       "png": "[encoded data removed]",
       "text": [
        "<matplotlib.figure.Figure at 0x10bc97240>"
       ]
      }
     ],
     "prompt_number": 36
    },
    {
     "cell_type": "markdown",
     "metadata": {},
     "source": [
      "Now I'll check for things that might suggest somebody jumped in front of the train. "
     ]
    },
    {
     "cell_type": "code",
     "collapsed": false,
     "input": [
      "reasons = [\"aanrijding met een persoon\",\"aanrijding\",\"aanrijding met een voertuig\"]\n",
      "agg = df[df['reason'].isin(reasons)] \\\n",
      "    .groupby([\"date\"]).where.count()\n",
      "pd.rolling_mean(agg, 14).plot(style='k')"
     ],
     "language": "python",
     "metadata": {},
     "outputs": [
      {
       "metadata": {},
       "output_type": "pyout",
       "prompt_number": 37,
       "text": [
        "<matplotlib.axes._subplots.AxesSubplot at 0x10bcb0898>"
       ]
      },
      {
       "metadata": {},
       "output_type": "display_data",
       "png": "[encoded data removed]",
       "text": [
        "<matplotlib.figure.Figure at 0x10bcb2940>"
       ]
      }
     ],
     "prompt_number": 37
    },
    {
     "cell_type": "markdown",
     "metadata": {},
     "source": [
      "Thankfully, the number of accidents aren't increasing. \n",
      "\n",
      "I'm interested in finding out what might be causing more accidents to happen. I'll add some weather information. "
     ]
    },
    {
     "cell_type": "markdown",
     "metadata": {},
     "source": [
      "### What next? \n",
      "\n",
      "Group up and play with this data! Some suggestions: \n",
      "\n",
      "- We still haven't check the severity of the fault which is something we should definately keep in mind in our analysis. \n",
      "- We haven't checked what the effect of the day of the week. Some days might be more of a pain that others. \n",
      "- We could download some more weather information to go and see if there is a relationship between the weather and the number of train outages. \n",
      "\n",
      "I hope you enjoyed the open session. Drop me a line anytime https://twitter.com/fishnets88"
     ]
    }
   ],
   "metadata": {}
  }
 ]
}